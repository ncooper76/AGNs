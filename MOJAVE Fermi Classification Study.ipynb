{
 "cells": [
  {
   "cell_type": "code",
   "execution_count": 3,
   "metadata": {},
   "outputs": [],
   "source": [
    "import numpy as np\n",
    "import pandas as pd\n",
    "import requests\n",
    "from astroquery.ned import Ned\n",
    "from time import sleep\n",
    "import matplotlib.pyplot as plt\n",
    "import seaborn as sns\n",
    "from astropy.io import fits\n",
    "from astropy.table import Table"
   ]
  },
  {
   "cell_type": "code",
   "execution_count": 4,
   "metadata": {},
   "outputs": [
    {
     "data": {
      "text/html": [
       "<div>\n",
       "<style scoped>\n",
       "    .dataframe tbody tr th:only-of-type {\n",
       "        vertical-align: middle;\n",
       "    }\n",
       "\n",
       "    .dataframe tbody tr th {\n",
       "        vertical-align: top;\n",
       "    }\n",
       "\n",
       "    .dataframe thead th {\n",
       "        text-align: right;\n",
       "    }\n",
       "</style>\n",
       "<table border=\"1\" class=\"dataframe\">\n",
       "  <thead>\n",
       "    <tr style=\"text-align: right;\">\n",
       "      <th></th>\n",
       "      <th>B1950 Name</th>\n",
       "      <th>J2000  Name</th>\n",
       "      <th>Common  Name</th>\n",
       "      <th>Right Asc. (J2000)</th>\n",
       "      <th>Declination (J2000)</th>\n",
       "      <th>z</th>\n",
       "      <th>Opt. ID</th>\n",
       "      <th>SED Class</th>\n",
       "      <th>Radio  Spectrum</th>\n",
       "      <th>Fermi 3FGL  Name</th>\n",
       "    </tr>\n",
       "  </thead>\n",
       "  <tbody>\n",
       "    <tr>\n",
       "      <th>0</th>\n",
       "      <td>0003-066</td>\n",
       "      <td>J0006-0623</td>\n",
       "      <td>NRAO 005</td>\n",
       "      <td>00 06 13.893</td>\n",
       "      <td>- 06 23 35.335</td>\n",
       "      <td>0.3467</td>\n",
       "      <td>B</td>\n",
       "      <td>LSP</td>\n",
       "      <td>Flat</td>\n",
       "      <td>NaN</td>\n",
       "    </tr>\n",
       "    <tr>\n",
       "      <th>1</th>\n",
       "      <td>0007+106</td>\n",
       "      <td>J0010+1058</td>\n",
       "      <td>III Zw 2</td>\n",
       "      <td>00 10 31.006</td>\n",
       "      <td>+ 10 58 29.504</td>\n",
       "      <td>0.0893</td>\n",
       "      <td>G</td>\n",
       "      <td>LSP</td>\n",
       "      <td>Flat</td>\n",
       "      <td>NaN</td>\n",
       "    </tr>\n",
       "    <tr>\n",
       "      <th>2</th>\n",
       "      <td>0016+731</td>\n",
       "      <td>J0019+7327</td>\n",
       "      <td>S5 0016+73</td>\n",
       "      <td>00 19 45.786</td>\n",
       "      <td>+ 73 27 30.018</td>\n",
       "      <td>1.7810</td>\n",
       "      <td>Q</td>\n",
       "      <td>LSP</td>\n",
       "      <td>Flat</td>\n",
       "      <td>NaN</td>\n",
       "    </tr>\n",
       "    <tr>\n",
       "      <th>3</th>\n",
       "      <td>0048-097</td>\n",
       "      <td>J0050-0929</td>\n",
       "      <td>PKS 0048-09</td>\n",
       "      <td>00 50 41.317</td>\n",
       "      <td>- 09 29 05.210</td>\n",
       "      <td>0.6350</td>\n",
       "      <td>B</td>\n",
       "      <td>ISP</td>\n",
       "      <td>Flat</td>\n",
       "      <td>J0050.6-0929</td>\n",
       "    </tr>\n",
       "    <tr>\n",
       "      <th>4</th>\n",
       "      <td>0059+581</td>\n",
       "      <td>J0102+5824</td>\n",
       "      <td>TXS 0059+581</td>\n",
       "      <td>01 02 45.762</td>\n",
       "      <td>+ 58 24 11.137</td>\n",
       "      <td>0.6440</td>\n",
       "      <td>Q</td>\n",
       "      <td>LSP</td>\n",
       "      <td>Flat</td>\n",
       "      <td>J0102.8+5825</td>\n",
       "    </tr>\n",
       "  </tbody>\n",
       "</table>\n",
       "</div>"
      ],
      "text/plain": [
       "  B1950 Name J2000  Name  Common  Name Right Asc. (J2000) Declination (J2000)  \\\n",
       "0   0003-066  J0006-0623      NRAO 005       00 06 13.893      - 06 23 35.335   \n",
       "1   0007+106  J0010+1058      III Zw 2       00 10 31.006      + 10 58 29.504   \n",
       "2   0016+731  J0019+7327    S5 0016+73       00 19 45.786      + 73 27 30.018   \n",
       "3   0048-097  J0050-0929   PKS 0048-09       00 50 41.317      - 09 29 05.210   \n",
       "4   0059+581  J0102+5824  TXS 0059+581       01 02 45.762      + 58 24 11.137   \n",
       "\n",
       "        z Opt. ID SED Class Radio  Spectrum Fermi 3FGL  Name  \n",
       "0  0.3467       B       LSP            Flat              NaN  \n",
       "1  0.0893       G       LSP            Flat              NaN  \n",
       "2  1.7810       Q       LSP            Flat              NaN  \n",
       "3  0.6350       B       ISP            Flat     J0050.6-0929  \n",
       "4  0.6440       Q       LSP            Flat     J0102.8+5825  "
      ]
     },
     "execution_count": 4,
     "metadata": {},
     "output_type": "execute_result"
    }
   ],
   "source": [
    "# import all the data retrieve in the previous work book\n",
    "\n",
    "mojave_id_df = pd.read_excel('MojaveData.xlsx')\n",
    "mojave_id_df.head()"
   ]
  },
  {
   "cell_type": "code",
   "execution_count": 5,
   "metadata": {},
   "outputs": [
    {
     "data": {
      "text/html": [
       "<div>\n",
       "<style scoped>\n",
       "    .dataframe tbody tr th:only-of-type {\n",
       "        vertical-align: middle;\n",
       "    }\n",
       "\n",
       "    .dataframe tbody tr th {\n",
       "        vertical-align: top;\n",
       "    }\n",
       "\n",
       "    .dataframe thead th {\n",
       "        text-align: right;\n",
       "    }\n",
       "</style>\n",
       "<table border=\"1\" class=\"dataframe\">\n",
       "  <thead>\n",
       "    <tr style=\"text-align: right;\">\n",
       "      <th></th>\n",
       "      <th>0.1-10 GeV (Fermi)</th>\n",
       "      <th>0.1-100 GeV (Fermi)</th>\n",
       "      <th>0.1-2.4 keV (Fermi)</th>\n",
       "      <th>0.1-2.4 keV (ROSAT)</th>\n",
       "      <th>0.1-2.4 keV (Swift)</th>\n",
       "      <th>0.15-3.5 keV (IPC)</th>\n",
       "      <th>0.2 keV (Einstein)</th>\n",
       "      <th>0.2-10 keV (Swift)</th>\n",
       "      <th>0.2-10 keV (XMM)</th>\n",
       "      <th>0.2-2 keV (ROSAT)</th>\n",
       "      <th>...</th>\n",
       "      <th>u (SDSS) AB</th>\n",
       "      <th>z (KPNO)</th>\n",
       "      <th>z (SDSS CModel) AB</th>\n",
       "      <th>z (SDSS Model) AB</th>\n",
       "      <th>z (SDSS PSF) AB</th>\n",
       "      <th>z (SDSS Petrosian)AB</th>\n",
       "      <th>z (SDSS) AB</th>\n",
       "      <th>z' (GROND) AB</th>\n",
       "      <th>z' (SOAR) AB</th>\n",
       "      <th>Source Name</th>\n",
       "    </tr>\n",
       "  </thead>\n",
       "  <tbody>\n",
       "    <tr>\n",
       "      <th>0</th>\n",
       "      <td>NaN</td>\n",
       "      <td>NaN</td>\n",
       "      <td>NaN</td>\n",
       "      <td>5.320000e-07</td>\n",
       "      <td>NaN</td>\n",
       "      <td>NaN</td>\n",
       "      <td>NaN</td>\n",
       "      <td>NaN</td>\n",
       "      <td>NaN</td>\n",
       "      <td>NaN</td>\n",
       "      <td>...</td>\n",
       "      <td>NaN</td>\n",
       "      <td>NaN</td>\n",
       "      <td>NaN</td>\n",
       "      <td>NaN</td>\n",
       "      <td>NaN</td>\n",
       "      <td>NaN</td>\n",
       "      <td>NaN</td>\n",
       "      <td>NaN</td>\n",
       "      <td>NaN</td>\n",
       "      <td>0003-066</td>\n",
       "    </tr>\n",
       "    <tr>\n",
       "      <th>1</th>\n",
       "      <td>NaN</td>\n",
       "      <td>NaN</td>\n",
       "      <td>NaN</td>\n",
       "      <td>2.030000e-06</td>\n",
       "      <td>0.000002</td>\n",
       "      <td>NaN</td>\n",
       "      <td>NaN</td>\n",
       "      <td>NaN</td>\n",
       "      <td>NaN</td>\n",
       "      <td>NaN</td>\n",
       "      <td>...</td>\n",
       "      <td>NaN</td>\n",
       "      <td>NaN</td>\n",
       "      <td>NaN</td>\n",
       "      <td>NaN</td>\n",
       "      <td>NaN</td>\n",
       "      <td>NaN</td>\n",
       "      <td>NaN</td>\n",
       "      <td>NaN</td>\n",
       "      <td>NaN</td>\n",
       "      <td>0007+106</td>\n",
       "    </tr>\n",
       "    <tr>\n",
       "      <th>2</th>\n",
       "      <td>NaN</td>\n",
       "      <td>NaN</td>\n",
       "      <td>NaN</td>\n",
       "      <td>NaN</td>\n",
       "      <td>NaN</td>\n",
       "      <td>NaN</td>\n",
       "      <td>NaN</td>\n",
       "      <td>NaN</td>\n",
       "      <td>NaN</td>\n",
       "      <td>NaN</td>\n",
       "      <td>...</td>\n",
       "      <td>NaN</td>\n",
       "      <td>NaN</td>\n",
       "      <td>NaN</td>\n",
       "      <td>NaN</td>\n",
       "      <td>NaN</td>\n",
       "      <td>NaN</td>\n",
       "      <td>NaN</td>\n",
       "      <td>NaN</td>\n",
       "      <td>NaN</td>\n",
       "      <td>0016+731</td>\n",
       "    </tr>\n",
       "    <tr>\n",
       "      <th>3</th>\n",
       "      <td>NaN</td>\n",
       "      <td>3.570000e-13</td>\n",
       "      <td>7.720000e-07</td>\n",
       "      <td>1.290000e-06</td>\n",
       "      <td>NaN</td>\n",
       "      <td>NaN</td>\n",
       "      <td>NaN</td>\n",
       "      <td>NaN</td>\n",
       "      <td>NaN</td>\n",
       "      <td>0.000002</td>\n",
       "      <td>...</td>\n",
       "      <td>NaN</td>\n",
       "      <td>NaN</td>\n",
       "      <td>NaN</td>\n",
       "      <td>NaN</td>\n",
       "      <td>0.00211</td>\n",
       "      <td>NaN</td>\n",
       "      <td>NaN</td>\n",
       "      <td>0.00273</td>\n",
       "      <td>NaN</td>\n",
       "      <td>0048-097</td>\n",
       "    </tr>\n",
       "    <tr>\n",
       "      <th>4</th>\n",
       "      <td>NaN</td>\n",
       "      <td>NaN</td>\n",
       "      <td>NaN</td>\n",
       "      <td>NaN</td>\n",
       "      <td>NaN</td>\n",
       "      <td>NaN</td>\n",
       "      <td>NaN</td>\n",
       "      <td>NaN</td>\n",
       "      <td>NaN</td>\n",
       "      <td>NaN</td>\n",
       "      <td>...</td>\n",
       "      <td>NaN</td>\n",
       "      <td>NaN</td>\n",
       "      <td>NaN</td>\n",
       "      <td>NaN</td>\n",
       "      <td>NaN</td>\n",
       "      <td>NaN</td>\n",
       "      <td>NaN</td>\n",
       "      <td>NaN</td>\n",
       "      <td>NaN</td>\n",
       "      <td>0059+581</td>\n",
       "    </tr>\n",
       "  </tbody>\n",
       "</table>\n",
       "<p>5 rows × 1267 columns</p>\n",
       "</div>"
      ],
      "text/plain": [
       "   0.1-10 GeV (Fermi)  0.1-100 GeV (Fermi)  0.1-2.4 keV (Fermi)  \\\n",
       "0                 NaN                  NaN                  NaN   \n",
       "1                 NaN                  NaN                  NaN   \n",
       "2                 NaN                  NaN                  NaN   \n",
       "3                 NaN         3.570000e-13         7.720000e-07   \n",
       "4                 NaN                  NaN                  NaN   \n",
       "\n",
       "   0.1-2.4 keV (ROSAT)  0.1-2.4 keV (Swift)  0.15-3.5 keV (IPC)  \\\n",
       "0         5.320000e-07                  NaN                 NaN   \n",
       "1         2.030000e-06             0.000002                 NaN   \n",
       "2                  NaN                  NaN                 NaN   \n",
       "3         1.290000e-06                  NaN                 NaN   \n",
       "4                  NaN                  NaN                 NaN   \n",
       "\n",
       "   0.2 keV (Einstein)  0.2-10 keV (Swift)  0.2-10 keV (XMM)  \\\n",
       "0                 NaN                 NaN               NaN   \n",
       "1                 NaN                 NaN               NaN   \n",
       "2                 NaN                 NaN               NaN   \n",
       "3                 NaN                 NaN               NaN   \n",
       "4                 NaN                 NaN               NaN   \n",
       "\n",
       "   0.2-2 keV (ROSAT)     ...       u (SDSS) AB  z (KPNO)  z (SDSS CModel) AB  \\\n",
       "0                NaN     ...               NaN       NaN                 NaN   \n",
       "1                NaN     ...               NaN       NaN                 NaN   \n",
       "2                NaN     ...               NaN       NaN                 NaN   \n",
       "3           0.000002     ...               NaN       NaN                 NaN   \n",
       "4                NaN     ...               NaN       NaN                 NaN   \n",
       "\n",
       "   z (SDSS Model) AB  z (SDSS PSF) AB  z (SDSS Petrosian)AB  z (SDSS) AB  \\\n",
       "0                NaN              NaN                   NaN          NaN   \n",
       "1                NaN              NaN                   NaN          NaN   \n",
       "2                NaN              NaN                   NaN          NaN   \n",
       "3                NaN          0.00211                   NaN          NaN   \n",
       "4                NaN              NaN                   NaN          NaN   \n",
       "\n",
       "   z' (GROND) AB  z' (SOAR) AB  Source Name  \n",
       "0            NaN           NaN     0003-066  \n",
       "1            NaN           NaN     0007+106  \n",
       "2            NaN           NaN     0016+731  \n",
       "3        0.00273           NaN     0048-097  \n",
       "4            NaN           NaN     0059+581  \n",
       "\n",
       "[5 rows x 1267 columns]"
      ]
     },
     "execution_count": 5,
     "metadata": {},
     "output_type": "execute_result"
    }
   ],
   "source": [
    "mojave_photo_df = pd.read_excel('MojavePhotometry.xlsx')\n",
    "mojave_photo_df.head()"
   ]
  },
  {
   "cell_type": "code",
   "execution_count": 7,
   "metadata": {},
   "outputs": [
    {
     "data": {
      "text/html": [
       "<div>\n",
       "<style scoped>\n",
       "    .dataframe tbody tr th:only-of-type {\n",
       "        vertical-align: middle;\n",
       "    }\n",
       "\n",
       "    .dataframe tbody tr th {\n",
       "        vertical-align: top;\n",
       "    }\n",
       "\n",
       "    .dataframe thead th {\n",
       "        text-align: right;\n",
       "    }\n",
       "</style>\n",
       "<table border=\"1\" class=\"dataframe\">\n",
       "  <thead>\n",
       "    <tr style=\"text-align: right;\">\n",
       "      <th></th>\n",
       "      <th>Source_Name</th>\n",
       "      <th>RAJ2000</th>\n",
       "      <th>DEJ2000</th>\n",
       "      <th>GLON</th>\n",
       "      <th>GLAT</th>\n",
       "      <th>Conf_68_SemiMajor</th>\n",
       "      <th>Conf_68_SemiMinor</th>\n",
       "      <th>Conf_68_PosAng</th>\n",
       "      <th>Conf_95_SemiMajor</th>\n",
       "      <th>Conf_95_SemiMinor</th>\n",
       "      <th>...</th>\n",
       "      <th>1FHL_Name</th>\n",
       "      <th>ASSOC_GAM1</th>\n",
       "      <th>ASSOC_GAM2</th>\n",
       "      <th>ASSOC_GAM3</th>\n",
       "      <th>TEVCAT_FLAG</th>\n",
       "      <th>ASSOC_TEV</th>\n",
       "      <th>CLASS1</th>\n",
       "      <th>ASSOC1</th>\n",
       "      <th>ASSOC2</th>\n",
       "      <th>Flags</th>\n",
       "    </tr>\n",
       "  </thead>\n",
       "  <tbody>\n",
       "    <tr>\n",
       "      <th>0</th>\n",
       "      <td>3FGL J0000.1+6545</td>\n",
       "      <td>0.0377</td>\n",
       "      <td>65.751701</td>\n",
       "      <td>117.693878</td>\n",
       "      <td>3.402958</td>\n",
       "      <td>0.062845</td>\n",
       "      <td>0.048105</td>\n",
       "      <td>41.029999</td>\n",
       "      <td>0.1019</td>\n",
       "      <td>0.0780</td>\n",
       "      <td>...</td>\n",
       "      <td></td>\n",
       "      <td></td>\n",
       "      <td></td>\n",
       "      <td></td>\n",
       "      <td>N</td>\n",
       "      <td></td>\n",
       "      <td>blank</td>\n",
       "      <td></td>\n",
       "      <td></td>\n",
       "      <td>4</td>\n",
       "    </tr>\n",
       "    <tr>\n",
       "      <th>1</th>\n",
       "      <td>3FGL J0000.2-3738</td>\n",
       "      <td>0.0612</td>\n",
       "      <td>-37.648399</td>\n",
       "      <td>345.410522</td>\n",
       "      <td>-74.946754</td>\n",
       "      <td>0.045083</td>\n",
       "      <td>0.041691</td>\n",
       "      <td>-88.550003</td>\n",
       "      <td>0.0731</td>\n",
       "      <td>0.0676</td>\n",
       "      <td>...</td>\n",
       "      <td></td>\n",
       "      <td></td>\n",
       "      <td></td>\n",
       "      <td></td>\n",
       "      <td>N</td>\n",
       "      <td></td>\n",
       "      <td>blank</td>\n",
       "      <td></td>\n",
       "      <td></td>\n",
       "      <td>0</td>\n",
       "    </tr>\n",
       "    <tr>\n",
       "      <th>2</th>\n",
       "      <td>3FGL J0001.0+6314</td>\n",
       "      <td>0.2535</td>\n",
       "      <td>63.243999</td>\n",
       "      <td>117.293091</td>\n",
       "      <td>0.925701</td>\n",
       "      <td>0.152640</td>\n",
       "      <td>0.098553</td>\n",
       "      <td>-65.320000</td>\n",
       "      <td>0.2475</td>\n",
       "      <td>0.1598</td>\n",
       "      <td>...</td>\n",
       "      <td></td>\n",
       "      <td></td>\n",
       "      <td></td>\n",
       "      <td></td>\n",
       "      <td>N</td>\n",
       "      <td></td>\n",
       "      <td>spp</td>\n",
       "      <td></td>\n",
       "      <td></td>\n",
       "      <td>28</td>\n",
       "    </tr>\n",
       "    <tr>\n",
       "      <th>3</th>\n",
       "      <td>3FGL J0001.2-0748</td>\n",
       "      <td>0.3209</td>\n",
       "      <td>-7.815900</td>\n",
       "      <td>89.022202</td>\n",
       "      <td>-67.324249</td>\n",
       "      <td>0.050325</td>\n",
       "      <td>0.042924</td>\n",
       "      <td>-19.469999</td>\n",
       "      <td>0.0816</td>\n",
       "      <td>0.0696</td>\n",
       "      <td>...</td>\n",
       "      <td></td>\n",
       "      <td></td>\n",
       "      <td></td>\n",
       "      <td></td>\n",
       "      <td>N</td>\n",
       "      <td></td>\n",
       "      <td>BLL</td>\n",
       "      <td>PMN J0001-0746</td>\n",
       "      <td></td>\n",
       "      <td>0</td>\n",
       "    </tr>\n",
       "    <tr>\n",
       "      <th>4</th>\n",
       "      <td>3FGL J0001.4+2120</td>\n",
       "      <td>0.3612</td>\n",
       "      <td>21.337900</td>\n",
       "      <td>107.665428</td>\n",
       "      <td>-40.047157</td>\n",
       "      <td>0.129821</td>\n",
       "      <td>0.116191</td>\n",
       "      <td>-32.549999</td>\n",
       "      <td>0.2105</td>\n",
       "      <td>0.1884</td>\n",
       "      <td>...</td>\n",
       "      <td></td>\n",
       "      <td></td>\n",
       "      <td>3EG J2359+2041</td>\n",
       "      <td></td>\n",
       "      <td>N</td>\n",
       "      <td></td>\n",
       "      <td>FSRQ</td>\n",
       "      <td>TXS 2358+209</td>\n",
       "      <td></td>\n",
       "      <td>0</td>\n",
       "    </tr>\n",
       "  </tbody>\n",
       "</table>\n",
       "<p>5 rows × 70 columns</p>\n",
       "</div>"
      ],
      "text/plain": [
       "          Source_Name  RAJ2000    DEJ2000        GLON       GLAT  \\\n",
       "0  3FGL J0000.1+6545    0.0377  65.751701  117.693878   3.402958   \n",
       "1  3FGL J0000.2-3738    0.0612 -37.648399  345.410522 -74.946754   \n",
       "2  3FGL J0001.0+6314    0.2535  63.243999  117.293091   0.925701   \n",
       "3  3FGL J0001.2-0748    0.3209  -7.815900   89.022202 -67.324249   \n",
       "4  3FGL J0001.4+2120    0.3612  21.337900  107.665428 -40.047157   \n",
       "\n",
       "   Conf_68_SemiMajor  Conf_68_SemiMinor  Conf_68_PosAng  Conf_95_SemiMajor  \\\n",
       "0           0.062845           0.048105       41.029999             0.1019   \n",
       "1           0.045083           0.041691      -88.550003             0.0731   \n",
       "2           0.152640           0.098553      -65.320000             0.2475   \n",
       "3           0.050325           0.042924      -19.469999             0.0816   \n",
       "4           0.129821           0.116191      -32.549999             0.2105   \n",
       "\n",
       "   Conf_95_SemiMinor  ...             1FHL_Name       ASSOC_GAM1  \\\n",
       "0             0.0780  ...                                          \n",
       "1             0.0676  ...                                          \n",
       "2             0.1598  ...                                          \n",
       "3             0.0696  ...                                          \n",
       "4             0.1884  ...                                          \n",
       "\n",
       "       ASSOC_GAM2       ASSOC_GAM3  TEVCAT_FLAG              ASSOC_TEV  \\\n",
       "0                                             N                          \n",
       "1                                             N                          \n",
       "2                                             N                          \n",
       "3                                             N                          \n",
       "4  3EG J2359+2041                             N                          \n",
       "\n",
       "   CLASS1                      ASSOC1                      ASSOC2  Flags  \n",
       "0   blank                                                              4  \n",
       "1   blank                                                              0  \n",
       "2   spp                                                               28  \n",
       "3   BLL    PMN J0001-0746                                              0  \n",
       "4   FSRQ   TXS 2358+209                                                0  \n",
       "\n",
       "[5 rows x 70 columns]"
      ]
     },
     "execution_count": 7,
     "metadata": {},
     "output_type": "execute_result"
    }
   ],
   "source": [
    "lat_id_df = pd.read_excel('gll_psc_v16.xlsx')\n",
    "lat_id_df.head()"
   ]
  },
  {
   "cell_type": "code",
   "execution_count": 11,
   "metadata": {},
   "outputs": [
    {
     "data": {
      "text/plain": [
       "Source_Name              object\n",
       "RAJ2000                 float64\n",
       "DEJ2000                 float64\n",
       "GLON                    float64\n",
       "GLAT                    float64\n",
       "Conf_68_SemiMajor       float64\n",
       "Conf_68_SemiMinor       float64\n",
       "Conf_68_PosAng          float64\n",
       "Conf_95_SemiMajor       float64\n",
       "Conf_95_SemiMinor       float64\n",
       "Conf_95_PosAng          float64\n",
       "ROI_num                   int64\n",
       "Signif_Avg              float64\n",
       "Pivot_Energy            float64\n",
       "Flux_Density            float64\n",
       "Unc_Flux_Density        float64\n",
       "Flux1000                float64\n",
       "Unc_Flux1000            float64\n",
       "Energy_Flux100          float64\n",
       "Unc_Energy_Flux100      float64\n",
       "Signif_Curve            float64\n",
       "SpectrumType             object\n",
       "Spectral_Index          float64\n",
       "Unc_Spectral_Index      float64\n",
       "beta                    float64\n",
       "Unc_beta                float64\n",
       "Cutoff                  float64\n",
       "Unc_Cutoff              float64\n",
       "Exp_Index               float64\n",
       "Unc_Exp_Index           float64\n",
       "PowerLaw_Index          float64\n",
       "Flux30_100              float64\n",
       "Unc_Flux30_100          float64\n",
       "nuFnu30_100             float64\n",
       "Sqrt_TS30_100           float64\n",
       "Flux100_300             float64\n",
       "nuFnu100_300            float64\n",
       "Sqrt_TS100_300          float64\n",
       "Flux300_1000            float64\n",
       "nuFnu300_1000           float64\n",
       "Sqrt_TS300_1000         float64\n",
       "Flux1000_3000           float64\n",
       "nuFnu1000_3000          float64\n",
       "Sqrt_TS1000_3000        float64\n",
       "Flux3000_10000          float64\n",
       "nuFnu3000_10000         float64\n",
       "Sqrt_TS3000_10000       float64\n",
       "Flux10000_100000        float64\n",
       "nuFnu10000_100000       float64\n",
       "Sqrt_TS10000_100000     float64\n",
       "Variability_Index       float64\n",
       "Signif_Peak             float64\n",
       "Flux_Peak               float64\n",
       "Unc_Flux_Peak           float64\n",
       "Time_Peak               float64\n",
       "Peak_Interval           float64\n",
       "Extended_Source_Name     object\n",
       "0FGL_Name                object\n",
       "1FGL_Name                object\n",
       "2FGL_Name                object\n",
       "1FHL_Name                object\n",
       "ASSOC_GAM1               object\n",
       "ASSOC_GAM2               object\n",
       "ASSOC_GAM3               object\n",
       "TEVCAT_FLAG              object\n",
       "ASSOC_TEV                object\n",
       "CLASS1                   object\n",
       "ASSOC1                   object\n",
       "ASSOC2                   object\n",
       "Flags                     int64\n",
       "dtype: object"
      ]
     },
     "execution_count": 11,
     "metadata": {},
     "output_type": "execute_result"
    }
   ],
   "source": [
    "pd.set_option('display.max_rows', 100)\n",
    "lat_id_df.dtypes"
   ]
  },
  {
   "cell_type": "code",
   "execution_count": 8,
   "metadata": {},
   "outputs": [
    {
     "data": {
      "text/html": [
       "<div>\n",
       "<style scoped>\n",
       "    .dataframe tbody tr th:only-of-type {\n",
       "        vertical-align: middle;\n",
       "    }\n",
       "\n",
       "    .dataframe tbody tr th {\n",
       "        vertical-align: top;\n",
       "    }\n",
       "\n",
       "    .dataframe thead th {\n",
       "        text-align: right;\n",
       "    }\n",
       "</style>\n",
       "<table border=\"1\" class=\"dataframe\">\n",
       "  <thead>\n",
       "    <tr style=\"text-align: right;\">\n",
       "      <th></th>\n",
       "      <th>0.1-100 GeV (Fermi)</th>\n",
       "      <th>0.1-2 keV (XMM)</th>\n",
       "      <th>0.1-2.4 keV (Fermi)</th>\n",
       "      <th>0.1-2.4 keV (ROSAT)</th>\n",
       "      <th>0.1-2.4 keV (Swift)</th>\n",
       "      <th>0.13-0.18 keV (EUVE)</th>\n",
       "      <th>0.15-3.5 keV (IPC)</th>\n",
       "      <th>0.2 keV (Einstein)</th>\n",
       "      <th>0.2-10 keV (Swift)</th>\n",
       "      <th>0.2-10 keV (XMM)</th>\n",
       "      <th>...</th>\n",
       "      <th>u (SDSS) AB</th>\n",
       "      <th>z (KPNO)</th>\n",
       "      <th>z (SDSS CModel) AB</th>\n",
       "      <th>z (SDSS Model) AB</th>\n",
       "      <th>z (SDSS PSF) AB</th>\n",
       "      <th>z (SDSS Petrosian)AB</th>\n",
       "      <th>z (SDSS) AB</th>\n",
       "      <th>z' (GROND) AB</th>\n",
       "      <th>z' (SOAR) AB</th>\n",
       "      <th>Source Name</th>\n",
       "    </tr>\n",
       "  </thead>\n",
       "  <tbody>\n",
       "    <tr>\n",
       "      <th>0</th>\n",
       "      <td>2.110000e-13</td>\n",
       "      <td>NaN</td>\n",
       "      <td>NaN</td>\n",
       "      <td>NaN</td>\n",
       "      <td>NaN</td>\n",
       "      <td>NaN</td>\n",
       "      <td>NaN</td>\n",
       "      <td>NaN</td>\n",
       "      <td>NaN</td>\n",
       "      <td>NaN</td>\n",
       "      <td>...</td>\n",
       "      <td>NaN</td>\n",
       "      <td>NaN</td>\n",
       "      <td>NaN</td>\n",
       "      <td>NaN</td>\n",
       "      <td>NaN</td>\n",
       "      <td>NaN</td>\n",
       "      <td>NaN</td>\n",
       "      <td>NaN</td>\n",
       "      <td>NaN</td>\n",
       "      <td>3FGL J0009.3+5030</td>\n",
       "    </tr>\n",
       "    <tr>\n",
       "      <th>1</th>\n",
       "      <td>1.600000e-13</td>\n",
       "      <td>NaN</td>\n",
       "      <td>2.660000e-07</td>\n",
       "      <td>4.110000e-07</td>\n",
       "      <td>NaN</td>\n",
       "      <td>NaN</td>\n",
       "      <td>NaN</td>\n",
       "      <td>NaN</td>\n",
       "      <td>NaN</td>\n",
       "      <td>NaN</td>\n",
       "      <td>...</td>\n",
       "      <td>NaN</td>\n",
       "      <td>NaN</td>\n",
       "      <td>NaN</td>\n",
       "      <td>NaN</td>\n",
       "      <td>NaN</td>\n",
       "      <td>NaN</td>\n",
       "      <td>NaN</td>\n",
       "      <td>NaN</td>\n",
       "      <td>NaN</td>\n",
       "      <td>3FGL J0017.6-0512</td>\n",
       "    </tr>\n",
       "    <tr>\n",
       "      <th>2</th>\n",
       "      <td>4.300000e-14</td>\n",
       "      <td>NaN</td>\n",
       "      <td>NaN</td>\n",
       "      <td>1.950000e-06</td>\n",
       "      <td>NaN</td>\n",
       "      <td>NaN</td>\n",
       "      <td>NaN</td>\n",
       "      <td>NaN</td>\n",
       "      <td>NaN</td>\n",
       "      <td>NaN</td>\n",
       "      <td>...</td>\n",
       "      <td>NaN</td>\n",
       "      <td>NaN</td>\n",
       "      <td>NaN</td>\n",
       "      <td>NaN</td>\n",
       "      <td>NaN</td>\n",
       "      <td>NaN</td>\n",
       "      <td>NaN</td>\n",
       "      <td>NaN</td>\n",
       "      <td>NaN</td>\n",
       "      <td>3FGL J0018.4+2947</td>\n",
       "    </tr>\n",
       "    <tr>\n",
       "      <th>3</th>\n",
       "      <td>8.350000e-14</td>\n",
       "      <td>NaN</td>\n",
       "      <td>NaN</td>\n",
       "      <td>2.230000e-06</td>\n",
       "      <td>NaN</td>\n",
       "      <td>NaN</td>\n",
       "      <td>NaN</td>\n",
       "      <td>NaN</td>\n",
       "      <td>NaN</td>\n",
       "      <td>NaN</td>\n",
       "      <td>...</td>\n",
       "      <td>NaN</td>\n",
       "      <td>NaN</td>\n",
       "      <td>NaN</td>\n",
       "      <td>NaN</td>\n",
       "      <td>NaN</td>\n",
       "      <td>NaN</td>\n",
       "      <td>NaN</td>\n",
       "      <td>NaN</td>\n",
       "      <td>NaN</td>\n",
       "      <td>3FGL J0018.9-8152</td>\n",
       "    </tr>\n",
       "    <tr>\n",
       "      <th>4</th>\n",
       "      <td>2.040000e-13</td>\n",
       "      <td>NaN</td>\n",
       "      <td>NaN</td>\n",
       "      <td>NaN</td>\n",
       "      <td>NaN</td>\n",
       "      <td>NaN</td>\n",
       "      <td>NaN</td>\n",
       "      <td>NaN</td>\n",
       "      <td>NaN</td>\n",
       "      <td>NaN</td>\n",
       "      <td>...</td>\n",
       "      <td>NaN</td>\n",
       "      <td>NaN</td>\n",
       "      <td>NaN</td>\n",
       "      <td>NaN</td>\n",
       "      <td>NaN</td>\n",
       "      <td>NaN</td>\n",
       "      <td>NaN</td>\n",
       "      <td>NaN</td>\n",
       "      <td>NaN</td>\n",
       "      <td>3FGL J0022.5+0608</td>\n",
       "    </tr>\n",
       "  </tbody>\n",
       "</table>\n",
       "<p>5 rows × 1485 columns</p>\n",
       "</div>"
      ],
      "text/plain": [
       "   0.1-100 GeV (Fermi)  0.1-2 keV (XMM)  0.1-2.4 keV (Fermi)  \\\n",
       "0         2.110000e-13              NaN                  NaN   \n",
       "1         1.600000e-13              NaN         2.660000e-07   \n",
       "2         4.300000e-14              NaN                  NaN   \n",
       "3         8.350000e-14              NaN                  NaN   \n",
       "4         2.040000e-13              NaN                  NaN   \n",
       "\n",
       "   0.1-2.4 keV (ROSAT)  0.1-2.4 keV (Swift)  0.13-0.18 keV (EUVE)  \\\n",
       "0                  NaN                  NaN                   NaN   \n",
       "1         4.110000e-07                  NaN                   NaN   \n",
       "2         1.950000e-06                  NaN                   NaN   \n",
       "3         2.230000e-06                  NaN                   NaN   \n",
       "4                  NaN                  NaN                   NaN   \n",
       "\n",
       "   0.15-3.5 keV (IPC)  0.2 keV (Einstein)  0.2-10 keV (Swift)  \\\n",
       "0                 NaN                 NaN                 NaN   \n",
       "1                 NaN                 NaN                 NaN   \n",
       "2                 NaN                 NaN                 NaN   \n",
       "3                 NaN                 NaN                 NaN   \n",
       "4                 NaN                 NaN                 NaN   \n",
       "\n",
       "   0.2-10 keV (XMM)         ...          u (SDSS) AB  z (KPNO)  \\\n",
       "0               NaN         ...                  NaN       NaN   \n",
       "1               NaN         ...                  NaN       NaN   \n",
       "2               NaN         ...                  NaN       NaN   \n",
       "3               NaN         ...                  NaN       NaN   \n",
       "4               NaN         ...                  NaN       NaN   \n",
       "\n",
       "   z (SDSS CModel) AB  z (SDSS Model) AB  z (SDSS PSF) AB  \\\n",
       "0                 NaN                NaN              NaN   \n",
       "1                 NaN                NaN              NaN   \n",
       "2                 NaN                NaN              NaN   \n",
       "3                 NaN                NaN              NaN   \n",
       "4                 NaN                NaN              NaN   \n",
       "\n",
       "   z (SDSS Petrosian)AB  z (SDSS) AB  z' (GROND) AB  z' (SOAR) AB  \\\n",
       "0                   NaN          NaN            NaN           NaN   \n",
       "1                   NaN          NaN            NaN           NaN   \n",
       "2                   NaN          NaN            NaN           NaN   \n",
       "3                   NaN          NaN            NaN           NaN   \n",
       "4                   NaN          NaN            NaN           NaN   \n",
       "\n",
       "          Source Name  \n",
       "0  3FGL J0009.3+5030   \n",
       "1  3FGL J0017.6-0512   \n",
       "2  3FGL J0018.4+2947   \n",
       "3  3FGL J0018.9-8152   \n",
       "4  3FGL J0022.5+0608   \n",
       "\n",
       "[5 rows x 1485 columns]"
      ]
     },
     "execution_count": 8,
     "metadata": {},
     "output_type": "execute_result"
    }
   ],
   "source": [
    "lat_photo_df = pd.read_excel('LATPhotometry.xlsx')\n",
    "lat_photo_df.head()"
   ]
  },
  {
   "cell_type": "markdown",
   "metadata": {},
   "source": [
    "## Redshifts and Luminosity Distances\n",
    "\n",
    "Since Flux Density varies with distance to the object, I need to claculate luminosity distances for each recovered redshift. This is first done by retrieving the unknown redshift data from the NED database, and adding that data to the corresponding data frame. Any redshifts that are still missing will be estimated at the mean value for that sample.\n",
    "\n",
    "Once these data are added, I created a function to calculate the Luminosity Distances in Mpc (D. Hogg, 1999, https://arxiv.org/abs/astro-ph/9905116). For this study, which focuses on the Data Science aspect, I need only transform the data such that it removes obervational bias. I will leave transorming the data into standard SI (metric) based units for when this is presented in am astronomy publication, since the Machine Learning algorithms are agnostic to unit systems. "
   ]
  },
  {
   "cell_type": "code",
   "execution_count": 49,
   "metadata": {},
   "outputs": [],
   "source": [
    "#lat_photo_df[\"z\"] = np.nan"
   ]
  },
  {
   "cell_type": "code",
   "execution_count": 51,
   "metadata": {},
   "outputs": [
    {
     "name": "stdout",
     "output_type": "stream",
     "text": [
      "3FGL J0009.3+5030 \n",
      "3FGL J0018.9-8152 \n",
      "3FGL J0022.5+0608 \n",
      "3FGL J0034.3-0534 \n",
      "3FGL J0045.7+1217 \n",
      "3FGL J0051.2-6241 \n",
      "3FGL J0054.8-2455 \n",
      "3FGL J0103.4+5336 \n",
      "3FGL J0103.7+1323 \n",
      "3FGL J0109.8+6132 \n",
      "3FGL J0134.5+2638 \n",
      "3FGL J0136.5+3905 \n",
      "3FGL J0144.6+2705 \n",
      "3FGL J0154.0+0824 \n",
      "3FGL J0154.9+4433 \n",
      "3FGL J0157.0-5301 \n",
      "3FGL J0158.6-3931 \n",
      "3FGL J0205.5+6448 \n",
      "3FGL J0237.5-3603 \n",
      "3FGL J0238.0+5237 \n",
      "3FGL J0240.5+6113 \n",
      "3FGL J0243.5+7119 \n",
      "3FGL J0250.6+1713 \n",
      "3FGL J0250.6+5630 \n",
      "3FGL J0316.1+0904 \n",
      "3FGL J0335.3-4459 \n",
      "3FGL J0340.3+4130 \n",
      "3FGL J0419.1+6636 \n",
      "3FGL J0423.8+4150 \n",
      "3FGL J0425.0-5331 \n",
      "3FGL J0434.4-2341 \n",
      "3FGL J0440.8+2751 \n",
      "3FGL J0448.6-1632 \n",
      "3FGL J0456.3+2702 \n",
      "3FGL J0506.9-5435 \n",
      "3FGL J0509.4+0541 \n",
      "3FGL J0521.7+0103 \n",
      "3FGL J0521.7+2113 \n",
      "3FGL J0525.6-6013 \n",
      "3FGL J0526.6-6825e\n",
      "3FGL J0532.0-4827 \n",
      "3FGL J0534.5+2201 \n",
      "3FGL J0538.4-3909 \n",
      "3FGL J0540.4+5823 \n",
      "3FGL J0543.9-5531 \n",
      "3FGL J0558.6-7459 \n",
      "3FGL J0604.1-4817 \n",
      "3FGL J0607.4+4739 \n",
      "3FGL J0612.8+4122 \n",
      "3FGL J0617.2+5701 \n",
      "3FGL J0617.2+2234e\n",
      "3FGL J0622.9+3326 \n",
      "3FGL J0625.2+4440 \n",
      "3FGL J0629.0-6248 \n",
      "3FGL J0629.4-1959 \n",
      "3FGL J0633.9+1746 \n",
      "3FGL J0644.3-6713 \n",
      "3FGL J0647.6-6058 \n",
      "3FGL J0648.8+1516 \n",
      "3FGL J0700.6-6610 \n",
      "3FGL J0702.7-1952 \n",
      "3FGL J0706.5+3744 \n",
      "3FGL J0707.0+7741 \n",
      "3FGL J0712.6+5033 \n",
      "3FGL J0718.7-4319 \n",
      "3FGL J0730.5-6606 \n",
      "3FGL J0737.8-8245 \n",
      "3FGL J0744.1-2523 \n",
      "3FGL J0746.9+8511 \n",
      "3FGL J0756.3-6433 \n",
      "3FGL J0807.1-0541 \n",
      "3FGL J0814.1-1012 \n",
      "3FGL J0835.3-4510 \n",
      "3FGL J0849.1+6607 \n",
      "3FGL J0849.9-3540 \n",
      "3FGL J0850.0+4855 \n",
      "3FGL J0856.7-1105 \n",
      "3FGL J0904.8-5734 \n",
      "3FGL J0906.3-0906 \n",
      "3FGL J0953.0-0839 \n",
      "3FGL J0953.1-7657c\n",
      "3FGL J1021.8+8023 \n",
      "3FGL J1023.9-4335 \n",
      "3FGL J1024.6-0718 \n",
      "3FGL J1026.4-8542 \n",
      "3FGL J1028.4-5819 \n",
      "3FGL J1040.9-1205 \n",
      "3FGL J1044.5-5737 \n",
      "3FGL J1045.1-5941 \n",
      "3FGL J1048.2-5832 \n",
      "3FGL J1057.9-5227 \n",
      "3FGL J1103.9-5357 \n",
      "3FGL J1110.4-1835 \n",
      "3FGL J1115.0-0701 \n",
      "3FGL J1154.0-3243 \n",
      "3FGL J1208.4-6239 \n",
      "3FGL J1218.8-4827 \n",
      "3FGL J1233.9-5736 \n",
      "3FGL J1254.5+2210 \n",
      "3FGL J1257.0-6338 \n",
      "3FGL J1304.3-4353 \n",
      "3FGL J1307.6-4300 \n",
      "3FGL J1308.1-6707 \n",
      "3FGL J1326.7-4727 \n",
      "3FGL J1328.9-5607 \n",
      "3FGL J1330.1-7002 \n",
      "3FGL J1346.6-6027 \n",
      "3FGL J1350.8+3035 \n",
      "3FGL J1351.8-1524 \n",
      "3FGL J1353.5-6640 \n",
      "3FGL J1400.7-5605 \n",
      "3FGL J1413.4-6205 \n",
      "3FGL J1420.0-6048 \n",
      "3FGL J1422.4-6137 \n",
      "3FGL J1427.6-3305 \n",
      "3FGL J1459.4-6053 \n",
      "3FGL J1505.0-3432 \n",
      "3FGL J1513.9-5908 \n",
      "3FGL J1514.0-5915e\n",
      "3FGL J1514.5-4750 \n",
      "3FGL J1518.0-2732 \n",
      "3FGL J1520.8-0348 \n",
      "3FGL J1540.1+8155 \n",
      "3FGL J1544.1-2555 \n",
      "3FGL J1553.5-3118 \n",
      "3FGL J1557.4-7040 \n",
      "3FGL J1603.9-4903 \n",
      "3FGL J1610.8-6649 \n",
      "3FGL J1620.8-4928 \n",
      "3FGL J1632.4-4820 \n",
      "3FGL J1656.8-2010 \n",
      "3FGL J1709.7-4429 \n",
      "3FGL J1717.6-5802 \n",
      "3FGL J1718.1-3825 \n",
      "3FGL J1723.7-7713 \n",
      "3FGL J1732.5-3130 \n",
      "3FGL J1735.4-1118 \n",
      "3FGL J1736.0+2033 \n",
      "3FGL J1739.0+8716 \n",
      "3FGL J1745.6-2859c\n",
      "3FGL J1747.2-2958 \n",
      "3FGL J1748.9-2021 \n",
      "3FGL J1754.1+3212 \n",
      "3FGL J1758.8-2402 \n",
      "3FGL J1801.3-2326e\n",
      "3FGL J1803.1-2147 \n",
      "3FGL J1805.6-2136e\n",
      "3FGL J1809.7+2909 \n",
      "3FGL J1809.8-2332 \n",
      "3FGL J1811.2+0340 \n",
      "3FGL J1816.9-4944 \n",
      "3FGL J1823.4+6857 \n",
      "3FGL J1823.6-3453 \n",
      "3FGL J1824.5-1351e\n",
      "3FGL J1825.2-5230 \n",
      "3FGL J1826.1-1256 \n",
      "3FGL J1826.2-1450 \n",
      "3FGL J1829.4+5402 \n",
      "3FGL J1830.1+0617 \n",
      "3FGL J1832.4-5659 \n",
      "3FGL J1833.5-1033 \n",
      "3FGL J1836.2+5925 \n",
      "3FGL J1841.7+3218 \n",
      "3FGL J1846.3+0919 \n",
      "3FGL J1903.2+5541 \n",
      "3FGL J1907.9+0602 \n",
      "3FGL J1911.4-1908 \n",
      "3FGL J1911.7+0307 \n",
      "3FGL J1918.2-4110 \n",
      "3FGL J1923.2+1408e\n",
      "3FGL J1926.8+6154 \n",
      "3FGL J1931.1+0937 \n",
      "3FGL J1942.7+1033 \n",
      "3FGL J1959.5+2047 \n",
      "3FGL J2001.1+4352 \n",
      "3FGL J2004.8+7003 \n",
      "3FGL J2012.0+4629 \n",
      "3FGL J2014.5+0648 \n",
      "3FGL J2015.6+3709 \n",
      "3FGL J2018.5+3851 \n",
      "3FGL J2021.1+3651 \n",
      "3FGL J2028.3+3332 \n",
      "3FGL J2029.4+4923 \n",
      "3FGL J2034.6-4202 \n",
      "3FGL J2039.5+5217 \n",
      "3FGL J2049.7+1002 \n",
      "3FGL J2051.0+3040e\n",
      "3FGL J2056.7+4938 \n",
      "3FGL J2112.5-3044 \n",
      "3FGL J2124.7-3358 \n",
      "3FGL J2139.4-4235 \n",
      "3FGL J2146.6-1344 \n",
      "3FGL J2223.3+0103 \n",
      "3FGL J2234.8+0945 \n",
      "3FGL J2238.4+5903 \n",
      "3FGL J2300.3+3136 \n",
      "3FGL J2304.6+3704 \n",
      "3FGL J2311.0+0204 \n",
      "3FGL J2322.9-4917 \n",
      "3FGL J2323.4+5849 \n",
      "3FGL J2324.7+0801 \n",
      "3FGL J2325.2+3957 \n",
      "3FGL J2352.0+1752 \n"
     ]
    }
   ],
   "source": [
    "\"\"\"\n",
    "# This loop will pull the first redshift measurement out of the NEd database. \n",
    "#I will adjust it to claculate a median at a later date\n",
    "for name in lat_photo_df['Source Name']:\n",
    "    try:\n",
    "        result_table = Ned.get_table(name, table='redshifts')\n",
    "        redshift_array = result_table.as_array()\n",
    "        z = redshift_array[0,][4] #Documentation on NED was vague, it took some trial and error to figure out how to index this\n",
    "        lat_photo_df.loc[lat_photo_df['Source Name'] == name, 'z'] = z\n",
    "        sleep(1)\n",
    "    except:\n",
    "        print(name)\n",
    "        sleep(1)\n",
    "        continue\n",
    "\"\"\""
   ]
  },
  {
   "cell_type": "code",
   "execution_count": 197,
   "metadata": {},
   "outputs": [],
   "source": [
    "lat_photo_df['z'] = lat_photo_df['z'].fillna(lat_photo_df['z'].mean())"
   ]
  },
  {
   "cell_type": "code",
   "execution_count": 198,
   "metadata": {},
   "outputs": [
    {
     "data": {
      "text/plain": [
       "count    486.000000\n",
       "mean       0.793286\n",
       "std        0.499732\n",
       "min        0.000000\n",
       "25%        0.519023\n",
       "50%        0.793286\n",
       "75%        0.815750\n",
       "max        3.033000\n",
       "Name: z, dtype: float64"
      ]
     },
     "execution_count": 198,
     "metadata": {},
     "output_type": "execute_result"
    }
   ],
   "source": [
    "lat_photo_df['z'].describe()"
   ]
  },
  {
   "cell_type": "code",
   "execution_count": 57,
   "metadata": {},
   "outputs": [],
   "source": [
    "from scipy.integrate import quad"
   ]
  },
  {
   "cell_type": "code",
   "execution_count": 83,
   "metadata": {},
   "outputs": [],
   "source": [
    "#This function transforms a redshift to a luminosity distance in Mpc.\n",
    "#It is in close agreement with http://www.astro.ucla.edu/~wright/CosmoCalc.html (see below)\n",
    "#It assumes a Flat universe with Lambda CDM cosmology\n",
    "def D_L(z):\n",
    "    #Using a Standard Lambda Cold Dark Matter Cosmology (https://arxiv.org/abs/1811.02374), assuming omega_r = 0 \n",
    "    omega_m = 0.286 # matter parameter\n",
    "    h = 69.6 #Hubble Constant in km*s^-1*Mpc^-1 \n",
    "    c= 299792 # speed of light in km/s\n",
    "    omega_v = 0.714 #vacuum paramter such that omega_m + omega_v = 1\n",
    "    invE = lambda x: (omega_m*(1+x)**3 + omega_v)**(-0.5)\n",
    "    dh = c/h # Hubble Distance in Mpc\n",
    "    D_m = dh*quad(invE, 0,z)[0]\n",
    "    \n",
    "    return (1+z)*D_m\n",
    "    "
   ]
  },
  {
   "cell_type": "code",
   "execution_count": 84,
   "metadata": {
    "scrolled": true
   },
   "outputs": [
    {
     "data": {
      "text/plain": [
       "2863.178133890252"
      ]
     },
     "execution_count": 84,
     "metadata": {},
     "output_type": "execute_result"
    }
   ],
   "source": [
    "#A test run of the function vs http://www.astro.ucla.edu/~wright/CosmoCalc.html gives DL(0.5) = 2863 Mpc\n",
    "D_L(0.5)"
   ]
  },
  {
   "cell_type": "code",
   "execution_count": 199,
   "metadata": {},
   "outputs": [],
   "source": [
    "lat_photo_df['DL'] = lat_photo_df.apply(lambda row: D_L(row['z']), axis=1)"
   ]
  },
  {
   "cell_type": "code",
   "execution_count": 200,
   "metadata": {},
   "outputs": [
    {
     "data": {
      "text/plain": [
       "count      486.000000\n",
       "mean      5334.941448\n",
       "std       4093.555391\n",
       "min          0.000000\n",
       "25%       2995.018999\n",
       "50%       5030.349863\n",
       "75%       5206.901008\n",
       "max      26274.773404\n",
       "Name: DL, dtype: float64"
      ]
     },
     "execution_count": 200,
     "metadata": {},
     "output_type": "execute_result"
    }
   ],
   "source": [
    "lat_photo_df['DL'].describe()"
   ]
  },
  {
   "cell_type": "code",
   "execution_count": 89,
   "metadata": {},
   "outputs": [],
   "source": [
    "lat_dl = lat_photo_df['DL'].dropna()"
   ]
  },
  {
   "cell_type": "code",
   "execution_count": 201,
   "metadata": {},
   "outputs": [
    {
     "name": "stderr",
     "output_type": "stream",
     "text": [
      "C:\\Users\\Nate\\Anaconda3\\lib\\site-packages\\matplotlib\\axes\\_axes.py:6462: UserWarning: The 'normed' kwarg is deprecated, and has been replaced by the 'density' kwarg.\n",
      "  warnings.warn(\"The 'normed' kwarg is deprecated, and has been \"\n"
     ]
    },
    {
     "data": {
      "text/plain": [
       "<matplotlib.axes._subplots.AxesSubplot at 0x1f04ef70198>"
      ]
     },
     "execution_count": 201,
     "metadata": {},
     "output_type": "execute_result"
    },
    {
     "data": {
      "image/png": "[encoded data removed]",
      "text/plain": [
       "<Figure size 432x288 with 1 Axes>"
      ]
     },
     "metadata": {},
     "output_type": "display_data"
    }
   ],
   "source": [
    "sns.distplot(lat_dl, kde=False)"
   ]
  },
  {
   "cell_type": "code",
   "execution_count": 202,
   "metadata": {},
   "outputs": [],
   "source": [
    "mojave_id_df['z'] = mojave_id_df['z'].fillna(mojave_id_df['z'].mean())"
   ]
  },
  {
   "cell_type": "code",
   "execution_count": 203,
   "metadata": {},
   "outputs": [],
   "source": [
    "mojave_id_df['DL'] = mojave_id_df.apply(lambda row: D_L(row['z']), axis=1)"
   ]
  },
  {
   "cell_type": "code",
   "execution_count": 204,
   "metadata": {},
   "outputs": [
    {
     "data": {
      "text/plain": [
       "count      232.000000\n",
       "mean      7542.296885\n",
       "std       5770.237448\n",
       "min         18.844296\n",
       "25%       3353.036006\n",
       "50%       6885.370057\n",
       "75%      10189.681971\n",
       "max      30102.577643\n",
       "Name: DL, dtype: float64"
      ]
     },
     "execution_count": 204,
     "metadata": {},
     "output_type": "execute_result"
    }
   ],
   "source": [
    "mojave_id_df['DL'].describe()"
   ]
  },
  {
   "cell_type": "code",
   "execution_count": 205,
   "metadata": {},
   "outputs": [],
   "source": [
    "mojave_dl = mojave_id_df['DL'].dropna()"
   ]
  },
  {
   "cell_type": "code",
   "execution_count": 206,
   "metadata": {},
   "outputs": [
    {
     "name": "stderr",
     "output_type": "stream",
     "text": [
      "C:\\Users\\Nate\\Anaconda3\\lib\\site-packages\\matplotlib\\axes\\_axes.py:6462: UserWarning: The 'normed' kwarg is deprecated, and has been replaced by the 'density' kwarg.\n",
      "  warnings.warn(\"The 'normed' kwarg is deprecated, and has been \"\n"
     ]
    },
    {
     "data": {
      "text/plain": [
       "<matplotlib.axes._subplots.AxesSubplot at 0x1f04efb3d68>"
      ]
     },
     "execution_count": 206,
     "metadata": {},
     "output_type": "execute_result"
    },
    {
     "data": {
      "image/png": "[encoded data removed]",
      "text/plain": [
       "<Figure size 432x288 with 1 Axes>"
      ]
     },
     "metadata": {},
     "output_type": "display_data"
    }
   ],
   "source": [
    "sns.distplot(mojave_dl, kde=False)"
   ]
  },
  {
   "cell_type": "markdown",
   "metadata": {},
   "source": [
    "## Merging the Data For Analysis\n",
    "\n",
    "At this point, I have all the data I need for the analysis. In this section I merge the data frames into one large data frame. In doing so, I neeed to trim away redundant sources from the MOJAVE and Fermi LAT surveys. I also need to drop sparse columns in the photometry data. I will retain columns that are 50% full or greater. I will the use a imputation technique to fill in missing values. "
   ]
  },
  {
   "cell_type": "code",
   "execution_count": 122,
   "metadata": {},
   "outputs": [
    {
     "name": "stdout",
     "output_type": "stream",
     "text": [
      "0.1-100 GeV (Fermi): 0.102880658436214\n",
      "1.4GHz: 0.3765432098765432\n",
      "100 MeV-100 GeV LAT: 0.25308641975308643\n",
      "4.85 GHz: 0.3271604938271605\n",
      "W1 (WISE): 0.3477366255144033\n",
      "W2 (WISE): 0.3477366255144033\n",
      "W3 (WISE): 0.3477366255144033\n",
      "W4 (WISE): 0.39711934156378603\n"
     ]
    }
   ],
   "source": [
    "#The last 3 columns I do not want dropped, so I have to slice accordingly\n",
    "for column in lat_photo_df.iloc[:,:-3]:\n",
    "    photo_series = lat_photo_df[column]\n",
    "    empties = photo_series.isna().sum()\n",
    "    sparcity = empties/photo_series.size\n",
    "    if sparcity >= 0.5:\n",
    "        #print(str(photo_series.name) + \": \" + str(sparcity))\n",
    "        lat_photo_df = lat_photo_df.drop([column], axis=1)\n",
    "    else:\n",
    "       print(str(photo_series.name) + \": \" + str(sparcity)) "
   ]
  },
  {
   "cell_type": "code",
   "execution_count": 123,
   "metadata": {},
   "outputs": [
    {
     "data": {
      "text/plain": [
       "(486, 11)"
      ]
     },
     "execution_count": 123,
     "metadata": {},
     "output_type": "execute_result"
    }
   ],
   "source": [
    "lat_photo_df.shape"
   ]
  },
  {
   "cell_type": "code",
   "execution_count": 355,
   "metadata": {},
   "outputs": [
    {
     "data": {
      "image/png": "[encoded data removed]",
      "text/plain": [
       "<Figure size 432x288 with 2 Axes>"
      ]
     },
     "metadata": {},
     "output_type": "display_data"
    }
   ],
   "source": [
    "lspar = sns.heatmap(~lat_photo_df.isnull())\n",
    "fig = lspar.get_figure()\n",
    "fig.savefig('lspars.png')"
   ]
  },
  {
   "cell_type": "code",
   "execution_count": 124,
   "metadata": {},
   "outputs": [
    {
     "name": "stdout",
     "output_type": "stream",
     "text": [
      "0.1-100 GeV (Fermi): 0.42857142857142855\n",
      "0.1-2.4 keV (ROSAT): 0.27705627705627706\n",
      "1.40 GHz: 0.3116883116883117\n",
      "1.4GHz: 0.025974025974025976\n",
      "100 MeV-100 GeV LAT: 0.41125541125541126\n",
      "10695 MHz: 0.47619047619047616\n",
      "15 GHz (OVRO): 0.24675324675324675\n",
      "15 GHz (VLBA): 0.18181818181818182\n",
      "151 MHz (VLBI): 0.4199134199134199\n",
      "229 GHz (IRAM): 0.4025974025974026\n",
      "23 GHz (WMAP): 0.26406926406926406\n",
      "24 GHz (VLBA): 0.4805194805194805\n",
      "2700 MHz: 0.38095238095238093\n",
      "33 GHz (WMAP): 0.3333333333333333\n",
      "365 MHz (Texas): 0.09090909090909091\n",
      "37 GHz (MRO): 0.49783549783549785\n",
      "4.85 GHz: 0.030303030303030304\n",
      "408 MHz: 0.341991341991342\n",
      "41 GHz (WMAP): 0.21212121212121213\n",
      "5 GHz (VLBA): 0.27705627705627706\n",
      "5000 MHz: 0.36363636363636365\n",
      "61 GHz (WMAP): 0.24675324675324675\n",
      "74 MHz (VLA): 0.3116883116883117\n",
      "8.4 GHz (VLA): 0.23376623376623376\n",
      "850 microns (JCMT): 0.48917748917748916\n",
      "86 GHz (IRAM): 0.2727272727272727\n",
      "94 GHz (WMAP): 0.37662337662337664\n",
      "K (WMAP): 0.329004329004329\n",
      "Ka (WMAP): 0.33766233766233766\n",
      "NUV (GALEX) AB: 0.4805194805194805\n",
      "Q (WMAP): 0.3333333333333333\n",
      "R: 0.21645021645021645\n",
      "V (WMAP): 0.36796536796536794\n",
      "W1 (WISE): 0.16883116883116883\n",
      "W2 (WISE): 0.16883116883116883\n",
      "W3 (WISE): 0.16883116883116883\n",
      "W4 (WISE): 0.16883116883116883\n"
     ]
    }
   ],
   "source": [
    "#Only the last column need be igonored\n",
    "for column in mojave_photo_df.iloc[:,:-1]:\n",
    "    photo_series = mojave_photo_df[column]\n",
    "    empties = photo_series.isna().sum()\n",
    "    sparcity = empties/photo_series.size\n",
    "    if sparcity >= 0.5:\n",
    "        mojave_photo_df = mojave_photo_df.drop([column], axis=1)\n",
    "        #print(str(photo_series.name) + \": \" + str(sparcity))\n",
    "    else:\n",
    "        print(str(photo_series.name) + \": \" + str(sparcity))"
   ]
  },
  {
   "cell_type": "code",
   "execution_count": 125,
   "metadata": {},
   "outputs": [
    {
     "data": {
      "text/plain": [
       "(231, 38)"
      ]
     },
     "execution_count": 125,
     "metadata": {},
     "output_type": "execute_result"
    }
   ],
   "source": [
    "mojave_photo_df.shape"
   ]
  },
  {
   "cell_type": "code",
   "execution_count": 354,
   "metadata": {},
   "outputs": [
    {
     "data": {
      "image/png": "[encoded data removed]",
      "text/plain": [
       "<Figure size 432x288 with 2 Axes>"
      ]
     },
     "metadata": {},
     "output_type": "display_data"
    }
   ],
   "source": [
    "mspar = sns.heatmap(~mojave_photo_df.isnull())\n",
    "fig = mspar.get_figure()\n",
    "fig.savefig('mspars.png')"
   ]
  },
  {
   "cell_type": "code",
   "execution_count": 270,
   "metadata": {},
   "outputs": [
    {
     "data": {
      "text/html": [
       "<div>\n",
       "<style scoped>\n",
       "    .dataframe tbody tr th:only-of-type {\n",
       "        vertical-align: middle;\n",
       "    }\n",
       "\n",
       "    .dataframe tbody tr th {\n",
       "        vertical-align: top;\n",
       "    }\n",
       "\n",
       "    .dataframe thead th {\n",
       "        text-align: right;\n",
       "    }\n",
       "</style>\n",
       "<table border=\"1\" class=\"dataframe\">\n",
       "  <thead>\n",
       "    <tr style=\"text-align: right;\">\n",
       "      <th></th>\n",
       "      <th>B1950 Name</th>\n",
       "      <th>J2000  Name</th>\n",
       "      <th>Common  Name</th>\n",
       "      <th>Right Asc. (J2000)</th>\n",
       "      <th>Declination (J2000)</th>\n",
       "      <th>z</th>\n",
       "      <th>Opt. ID</th>\n",
       "      <th>SED Class</th>\n",
       "      <th>Radio  Spectrum</th>\n",
       "      <th>Fermi 3FGL  Name</th>\n",
       "      <th>...</th>\n",
       "      <th>K (WMAP)</th>\n",
       "      <th>Ka (WMAP)</th>\n",
       "      <th>NUV (GALEX) AB</th>\n",
       "      <th>Q (WMAP)</th>\n",
       "      <th>R</th>\n",
       "      <th>V (WMAP)</th>\n",
       "      <th>W1 (WISE)</th>\n",
       "      <th>W2 (WISE)</th>\n",
       "      <th>W3 (WISE)</th>\n",
       "      <th>W4 (WISE)</th>\n",
       "    </tr>\n",
       "  </thead>\n",
       "  <tbody>\n",
       "    <tr>\n",
       "      <th>0</th>\n",
       "      <td>0003-066</td>\n",
       "      <td>J0006-0623</td>\n",
       "      <td>NRAO 005</td>\n",
       "      <td>00 06 13.893</td>\n",
       "      <td>- 06 23 35.335</td>\n",
       "      <td>0.3467</td>\n",
       "      <td>B</td>\n",
       "      <td>LSP</td>\n",
       "      <td>Flat</td>\n",
       "      <td>NaN</td>\n",
       "      <td>...</td>\n",
       "      <td>2.3</td>\n",
       "      <td>2.3</td>\n",
       "      <td>0.000038</td>\n",
       "      <td>2.3</td>\n",
       "      <td>0.000429</td>\n",
       "      <td>2.0</td>\n",
       "      <td>0.00427</td>\n",
       "      <td>0.00678</td>\n",
       "      <td>0.0196</td>\n",
       "      <td>0.0518</td>\n",
       "    </tr>\n",
       "    <tr>\n",
       "      <th>1</th>\n",
       "      <td>0007+106</td>\n",
       "      <td>J0010+1058</td>\n",
       "      <td>III Zw 2</td>\n",
       "      <td>00 10 31.006</td>\n",
       "      <td>+ 10 58 29.504</td>\n",
       "      <td>0.0893</td>\n",
       "      <td>G</td>\n",
       "      <td>LSP</td>\n",
       "      <td>Flat</td>\n",
       "      <td>NaN</td>\n",
       "      <td>...</td>\n",
       "      <td>1.1</td>\n",
       "      <td>1.2</td>\n",
       "      <td>NaN</td>\n",
       "      <td>1.2</td>\n",
       "      <td>0.039900</td>\n",
       "      <td>1.0</td>\n",
       "      <td>0.02260</td>\n",
       "      <td>0.02930</td>\n",
       "      <td>0.0555</td>\n",
       "      <td>0.1410</td>\n",
       "    </tr>\n",
       "    <tr>\n",
       "      <th>2</th>\n",
       "      <td>0016+731</td>\n",
       "      <td>J0019+7327</td>\n",
       "      <td>S5 0016+73</td>\n",
       "      <td>00 19 45.786</td>\n",
       "      <td>+ 73 27 30.018</td>\n",
       "      <td>1.7810</td>\n",
       "      <td>Q</td>\n",
       "      <td>LSP</td>\n",
       "      <td>Flat</td>\n",
       "      <td>NaN</td>\n",
       "      <td>...</td>\n",
       "      <td>NaN</td>\n",
       "      <td>NaN</td>\n",
       "      <td>0.000010</td>\n",
       "      <td>NaN</td>\n",
       "      <td>0.000153</td>\n",
       "      <td>NaN</td>\n",
       "      <td>NaN</td>\n",
       "      <td>NaN</td>\n",
       "      <td>NaN</td>\n",
       "      <td>NaN</td>\n",
       "    </tr>\n",
       "    <tr>\n",
       "      <th>3</th>\n",
       "      <td>0048-097</td>\n",
       "      <td>J0050-0929</td>\n",
       "      <td>PKS 0048-09</td>\n",
       "      <td>00 50 41.317</td>\n",
       "      <td>- 09 29 05.210</td>\n",
       "      <td>0.6350</td>\n",
       "      <td>B</td>\n",
       "      <td>ISP</td>\n",
       "      <td>Flat</td>\n",
       "      <td>J0050.6-0929</td>\n",
       "      <td>...</td>\n",
       "      <td>1.0</td>\n",
       "      <td>1.0</td>\n",
       "      <td>0.000491</td>\n",
       "      <td>0.8</td>\n",
       "      <td>0.001080</td>\n",
       "      <td>1.1</td>\n",
       "      <td>NaN</td>\n",
       "      <td>NaN</td>\n",
       "      <td>NaN</td>\n",
       "      <td>NaN</td>\n",
       "    </tr>\n",
       "    <tr>\n",
       "      <th>4</th>\n",
       "      <td>0059+581</td>\n",
       "      <td>J0102+5824</td>\n",
       "      <td>TXS 0059+581</td>\n",
       "      <td>01 02 45.762</td>\n",
       "      <td>+ 58 24 11.137</td>\n",
       "      <td>0.6440</td>\n",
       "      <td>Q</td>\n",
       "      <td>LSP</td>\n",
       "      <td>Flat</td>\n",
       "      <td>J0102.8+5825</td>\n",
       "      <td>...</td>\n",
       "      <td>NaN</td>\n",
       "      <td>NaN</td>\n",
       "      <td>NaN</td>\n",
       "      <td>NaN</td>\n",
       "      <td>NaN</td>\n",
       "      <td>NaN</td>\n",
       "      <td>0.00477</td>\n",
       "      <td>0.00738</td>\n",
       "      <td>0.0141</td>\n",
       "      <td>0.0370</td>\n",
       "    </tr>\n",
       "  </tbody>\n",
       "</table>\n",
       "<p>5 rows × 48 columns</p>\n",
       "</div>"
      ],
      "text/plain": [
       "  B1950 Name J2000  Name  Common  Name Right Asc. (J2000) Declination (J2000)  \\\n",
       "0   0003-066  J0006-0623      NRAO 005       00 06 13.893      - 06 23 35.335   \n",
       "1   0007+106  J0010+1058      III Zw 2       00 10 31.006      + 10 58 29.504   \n",
       "2   0016+731  J0019+7327    S5 0016+73       00 19 45.786      + 73 27 30.018   \n",
       "3   0048-097  J0050-0929   PKS 0048-09       00 50 41.317      - 09 29 05.210   \n",
       "4   0059+581  J0102+5824  TXS 0059+581       01 02 45.762      + 58 24 11.137   \n",
       "\n",
       "        z Opt. ID SED Class Radio  Spectrum Fermi 3FGL  Name    ...      \\\n",
       "0  0.3467       B       LSP            Flat              NaN    ...       \n",
       "1  0.0893       G       LSP            Flat              NaN    ...       \n",
       "2  1.7810       Q       LSP            Flat              NaN    ...       \n",
       "3  0.6350       B       ISP            Flat     J0050.6-0929    ...       \n",
       "4  0.6440       Q       LSP            Flat     J0102.8+5825    ...       \n",
       "\n",
       "   K (WMAP)  Ka (WMAP)  NUV (GALEX) AB  Q (WMAP)         R  V (WMAP)  \\\n",
       "0       2.3        2.3        0.000038       2.3  0.000429       2.0   \n",
       "1       1.1        1.2             NaN       1.2  0.039900       1.0   \n",
       "2       NaN        NaN        0.000010       NaN  0.000153       NaN   \n",
       "3       1.0        1.0        0.000491       0.8  0.001080       1.1   \n",
       "4       NaN        NaN             NaN       NaN       NaN       NaN   \n",
       "\n",
       "   W1 (WISE)  W2 (WISE)  W3 (WISE)  W4 (WISE)  \n",
       "0    0.00427    0.00678     0.0196     0.0518  \n",
       "1    0.02260    0.02930     0.0555     0.1410  \n",
       "2        NaN        NaN        NaN        NaN  \n",
       "3        NaN        NaN        NaN        NaN  \n",
       "4    0.00477    0.00738     0.0141     0.0370  \n",
       "\n",
       "[5 rows x 48 columns]"
      ]
     },
     "execution_count": 270,
     "metadata": {},
     "output_type": "execute_result"
    }
   ],
   "source": [
    "mojave_df = mojave_id_df.merge(mojave_photo_df, left_on = 'B1950 Name', right_on='Source Name')\n",
    "mojave_df = mojave_df.drop(['Source Name'], axis=1)\n",
    "mojave_df.head()"
   ]
  },
  {
   "cell_type": "code",
   "execution_count": 271,
   "metadata": {},
   "outputs": [
    {
     "data": {
      "text/plain": [
       "(231, 48)"
      ]
     },
     "execution_count": 271,
     "metadata": {},
     "output_type": "execute_result"
    }
   ],
   "source": [
    "mojave_df.shape"
   ]
  },
  {
   "cell_type": "code",
   "execution_count": 252,
   "metadata": {},
   "outputs": [
    {
     "data": {
      "text/html": [
       "<div>\n",
       "<style scoped>\n",
       "    .dataframe tbody tr th:only-of-type {\n",
       "        vertical-align: middle;\n",
       "    }\n",
       "\n",
       "    .dataframe tbody tr th {\n",
       "        vertical-align: top;\n",
       "    }\n",
       "\n",
       "    .dataframe thead th {\n",
       "        text-align: right;\n",
       "    }\n",
       "</style>\n",
       "<table border=\"1\" class=\"dataframe\">\n",
       "  <thead>\n",
       "    <tr style=\"text-align: right;\">\n",
       "      <th></th>\n",
       "      <th>Source_Name</th>\n",
       "      <th>RAJ2000</th>\n",
       "      <th>DEJ2000</th>\n",
       "      <th>GLON</th>\n",
       "      <th>GLAT</th>\n",
       "      <th>Conf_68_SemiMajor</th>\n",
       "      <th>Conf_68_SemiMinor</th>\n",
       "      <th>Conf_68_PosAng</th>\n",
       "      <th>Conf_95_SemiMajor</th>\n",
       "      <th>Conf_95_SemiMinor</th>\n",
       "      <th>...</th>\n",
       "      <th>1.4GHz</th>\n",
       "      <th>100 MeV-100 GeV LAT</th>\n",
       "      <th>4.85 GHz</th>\n",
       "      <th>W1 (WISE)</th>\n",
       "      <th>W2 (WISE)</th>\n",
       "      <th>W3 (WISE)</th>\n",
       "      <th>W4 (WISE)</th>\n",
       "      <th>z</th>\n",
       "      <th>DL</th>\n",
       "      <th>MOJAVE ASSOC</th>\n",
       "    </tr>\n",
       "  </thead>\n",
       "  <tbody>\n",
       "    <tr>\n",
       "      <th>0</th>\n",
       "      <td>3FGL J0009.3+5030</td>\n",
       "      <td>2.3337</td>\n",
       "      <td>50.510399</td>\n",
       "      <td>116.116417</td>\n",
       "      <td>-11.803292</td>\n",
       "      <td>0.012396</td>\n",
       "      <td>0.011841</td>\n",
       "      <td>18.240000</td>\n",
       "      <td>0.0201</td>\n",
       "      <td>0.0192</td>\n",
       "      <td>...</td>\n",
       "      <td>0.0121</td>\n",
       "      <td>NaN</td>\n",
       "      <td>NaN</td>\n",
       "      <td>NaN</td>\n",
       "      <td>NaN</td>\n",
       "      <td>NaN</td>\n",
       "      <td>NaN</td>\n",
       "      <td>0.793286</td>\n",
       "      <td>5030.349863</td>\n",
       "      <td>J0009.3+5030</td>\n",
       "    </tr>\n",
       "    <tr>\n",
       "      <th>1</th>\n",
       "      <td>3FGL J0017.6-0512</td>\n",
       "      <td>4.4045</td>\n",
       "      <td>-5.205000</td>\n",
       "      <td>101.258423</td>\n",
       "      <td>-66.642990</td>\n",
       "      <td>0.043973</td>\n",
       "      <td>0.040519</td>\n",
       "      <td>7.730000</td>\n",
       "      <td>0.0713</td>\n",
       "      <td>0.0657</td>\n",
       "      <td>...</td>\n",
       "      <td>0.1780</td>\n",
       "      <td>2.750000e-13</td>\n",
       "      <td>0.274</td>\n",
       "      <td>0.001960</td>\n",
       "      <td>0.002930</td>\n",
       "      <td>0.006540</td>\n",
       "      <td>0.0169</td>\n",
       "      <td>0.227000</td>\n",
       "      <td>1138.894747</td>\n",
       "      <td>J0017.6-0512</td>\n",
       "    </tr>\n",
       "    <tr>\n",
       "      <th>2</th>\n",
       "      <td>3FGL J0018.4+2947</td>\n",
       "      <td>4.6030</td>\n",
       "      <td>29.794001</td>\n",
       "      <td>114.432129</td>\n",
       "      <td>-32.532040</td>\n",
       "      <td>0.050880</td>\n",
       "      <td>0.045823</td>\n",
       "      <td>67.879997</td>\n",
       "      <td>0.0825</td>\n",
       "      <td>0.0743</td>\n",
       "      <td>...</td>\n",
       "      <td>0.0337</td>\n",
       "      <td>1.370000e-13</td>\n",
       "      <td>NaN</td>\n",
       "      <td>0.000523</td>\n",
       "      <td>0.000507</td>\n",
       "      <td>0.000778</td>\n",
       "      <td>NaN</td>\n",
       "      <td>0.100000</td>\n",
       "      <td>463.429579</td>\n",
       "      <td>J0018.4+2947</td>\n",
       "    </tr>\n",
       "    <tr>\n",
       "      <th>3</th>\n",
       "      <td>3FGL J0018.9-8152</td>\n",
       "      <td>4.7454</td>\n",
       "      <td>-81.876900</td>\n",
       "      <td>304.330109</td>\n",
       "      <td>-35.163124</td>\n",
       "      <td>0.036017</td>\n",
       "      <td>0.030343</td>\n",
       "      <td>-10.700000</td>\n",
       "      <td>0.0584</td>\n",
       "      <td>0.0492</td>\n",
       "      <td>...</td>\n",
       "      <td>NaN</td>\n",
       "      <td>NaN</td>\n",
       "      <td>0.048</td>\n",
       "      <td>0.004420</td>\n",
       "      <td>0.005550</td>\n",
       "      <td>0.008230</td>\n",
       "      <td>0.0142</td>\n",
       "      <td>0.793286</td>\n",
       "      <td>5030.349863</td>\n",
       "      <td>J0018.9-8152</td>\n",
       "    </tr>\n",
       "    <tr>\n",
       "      <th>4</th>\n",
       "      <td>3FGL J0022.5+0608</td>\n",
       "      <td>5.6430</td>\n",
       "      <td>6.137800</td>\n",
       "      <td>110.023605</td>\n",
       "      <td>-56.008762</td>\n",
       "      <td>0.023559</td>\n",
       "      <td>0.020969</td>\n",
       "      <td>-81.680000</td>\n",
       "      <td>0.0382</td>\n",
       "      <td>0.0340</td>\n",
       "      <td>...</td>\n",
       "      <td>0.3400</td>\n",
       "      <td>1.100000e-13</td>\n",
       "      <td>0.262</td>\n",
       "      <td>0.001580</td>\n",
       "      <td>0.002240</td>\n",
       "      <td>0.007740</td>\n",
       "      <td>0.0167</td>\n",
       "      <td>0.793286</td>\n",
       "      <td>5030.349863</td>\n",
       "      <td>J0022.5+0608</td>\n",
       "    </tr>\n",
       "  </tbody>\n",
       "</table>\n",
       "<p>5 rows × 81 columns</p>\n",
       "</div>"
      ],
      "text/plain": [
       "          Source_Name  RAJ2000    DEJ2000        GLON       GLAT  \\\n",
       "0  3FGL J0009.3+5030    2.3337  50.510399  116.116417 -11.803292   \n",
       "1  3FGL J0017.6-0512    4.4045  -5.205000  101.258423 -66.642990   \n",
       "2  3FGL J0018.4+2947    4.6030  29.794001  114.432129 -32.532040   \n",
       "3  3FGL J0018.9-8152    4.7454 -81.876900  304.330109 -35.163124   \n",
       "4  3FGL J0022.5+0608    5.6430   6.137800  110.023605 -56.008762   \n",
       "\n",
       "   Conf_68_SemiMajor  Conf_68_SemiMinor  Conf_68_PosAng  Conf_95_SemiMajor  \\\n",
       "0           0.012396           0.011841       18.240000             0.0201   \n",
       "1           0.043973           0.040519        7.730000             0.0713   \n",
       "2           0.050880           0.045823       67.879997             0.0825   \n",
       "3           0.036017           0.030343      -10.700000             0.0584   \n",
       "4           0.023559           0.020969      -81.680000             0.0382   \n",
       "\n",
       "   Conf_95_SemiMinor      ...       1.4GHz  100 MeV-100 GeV LAT  4.85 GHz  \\\n",
       "0             0.0192      ...       0.0121                  NaN       NaN   \n",
       "1             0.0657      ...       0.1780         2.750000e-13     0.274   \n",
       "2             0.0743      ...       0.0337         1.370000e-13       NaN   \n",
       "3             0.0492      ...          NaN                  NaN     0.048   \n",
       "4             0.0340      ...       0.3400         1.100000e-13     0.262   \n",
       "\n",
       "   W1 (WISE)  W2 (WISE)  W3 (WISE)  W4 (WISE)         z           DL  \\\n",
       "0        NaN        NaN        NaN        NaN  0.793286  5030.349863   \n",
       "1   0.001960   0.002930   0.006540     0.0169  0.227000  1138.894747   \n",
       "2   0.000523   0.000507   0.000778        NaN  0.100000   463.429579   \n",
       "3   0.004420   0.005550   0.008230     0.0142  0.793286  5030.349863   \n",
       "4   0.001580   0.002240   0.007740     0.0167  0.793286  5030.349863   \n",
       "\n",
       "   MOJAVE ASSOC  \n",
       "0  J0009.3+5030  \n",
       "1  J0017.6-0512  \n",
       "2  J0018.4+2947  \n",
       "3  J0018.9-8152  \n",
       "4  J0022.5+0608  \n",
       "\n",
       "[5 rows x 81 columns]"
      ]
     },
     "execution_count": 252,
     "metadata": {},
     "output_type": "execute_result"
    }
   ],
   "source": [
    "lat_df = lat_id_df.merge(lat_photo_df, left_on = 'Source_Name', right_on='Source Name')\n",
    "lat_df['MOJAVE ASSOC'] =  lat_df['Source Name'].str.replace('3FGL ', '')\n",
    "lat_df['MOJAVE ASSOC'] = lat_df['MOJAVE ASSOC'].str.replace('\\s+', '', regex=True)\n",
    "lat_df = lat_df.drop(['Source Name'], axis=1)\n",
    "lat_df.head()"
   ]
  },
  {
   "cell_type": "code",
   "execution_count": 253,
   "metadata": {},
   "outputs": [
    {
     "data": {
      "text/plain": [
       "Int64Index([  6,  10,  14,  18,  28,  37,  40,  53,  54,  58,\n",
       "            ...\n",
       "            429, 430, 432, 437, 456, 460, 463, 464, 474, 475],\n",
       "           dtype='int64', length=111)"
      ]
     },
     "execution_count": 253,
     "metadata": {},
     "output_type": "execute_result"
    }
   ],
   "source": [
    "lat_drops_index = lat_df[~(lat_df.CLASS1=='BLL  ')&~(lat_df.CLASS1=='FSRQ ')&~(lat_df.CLASS1=='GAL  ')&~(lat_df.CLASS1=='blank')&~(lat_df.CLASS1=='AGN  ')].index\n",
    "lat_drops_index"
   ]
  },
  {
   "cell_type": "code",
   "execution_count": 254,
   "metadata": {},
   "outputs": [
    {
     "data": {
      "text/plain": [
       "(375, 81)"
      ]
     },
     "execution_count": 254,
     "metadata": {},
     "output_type": "execute_result"
    }
   ],
   "source": [
    "lat_df = lat_df.drop(lat_drops_index)\n",
    "lat_df.shape"
   ]
  },
  {
   "cell_type": "code",
   "execution_count": 210,
   "metadata": {},
   "outputs": [
    {
     "data": {
      "text/plain": [
       "(array([ 0,  1,  2,  3,  4,  5,  6,  7,  8,  9, 10, 11, 12, 13, 14, 15, 16,\n",
       "        17, 18, 19]), <a list of 20 Text xticklabel objects>)"
      ]
     },
     "execution_count": 210,
     "metadata": {},
     "output_type": "execute_result"
    },
    {
     "data": {
      "image/png": "[encoded data removed]",
      "text/plain": [
       "<Figure size 432x288 with 1 Axes>"
      ]
     },
     "metadata": {},
     "output_type": "display_data"
    }
   ],
   "source": [
    "sns.countplot(lat_df['CLASS1'])\n",
    "plt.xticks(rotation=90)"
   ]
  },
  {
   "cell_type": "code",
   "execution_count": 255,
   "metadata": {},
   "outputs": [],
   "source": [
    "#Renaming the LAT Classifactions to match the codes in the MOJAVE sample\n",
    "lat_df['CLASS1'] =lat_df['CLASS1'].str.replace('BLL  ', 'B')\n",
    "lat_df['CLASS1'] =lat_df['CLASS1'].str.replace('FSRQ ', 'Q')\n",
    "lat_df['CLASS1'] =lat_df['CLASS1'].str.replace('GAL  ', 'G')\n",
    "lat_df['CLASS1'] =lat_df['CLASS1'].str.replace('AGN  ', 'N')\n",
    "lat_df['CLASS1'] =lat_df['CLASS1'].str.replace('blank', 'U')"
   ]
  },
  {
   "cell_type": "code",
   "execution_count": 272,
   "metadata": {},
   "outputs": [
    {
     "data": {
      "text/plain": [
       "77"
      ]
     },
     "execution_count": 272,
     "metadata": {},
     "output_type": "execute_result"
    }
   ],
   "source": [
    "mojave_df['Fermi 3FGL  Name'].isin(lat_df['MOJAVE ASSOC']).sum()"
   ]
  },
  {
   "cell_type": "markdown",
   "metadata": {},
   "source": [
    "### Final Join\n",
    "\n",
    "From the above counts, we have 77 sources that overlap. This means that the final merged data frame ought to have 529 sources. This is far less than I had planned for so future work will inlcude an improvement as to how the NED data base is scraped for data."
   ]
  },
  {
   "cell_type": "code",
   "execution_count": 273,
   "metadata": {},
   "outputs": [
    {
     "data": {
      "text/plain": [
       "(529, 129)"
      ]
     },
     "execution_count": 273,
     "metadata": {},
     "output_type": "execute_result"
    }
   ],
   "source": [
    "lat_mojave_df = lat_df.merge(mojave_df, left_on = 'MOJAVE ASSOC', right_on='Fermi 3FGL  Name', how='outer')\n",
    "lat_mojave_df.shape"
   ]
  },
  {
   "cell_type": "code",
   "execution_count": 274,
   "metadata": {},
   "outputs": [
    {
     "data": {
      "text/plain": [
       "Source_Name               object\n",
       "RAJ2000                  float64\n",
       "DEJ2000                  float64\n",
       "GLON                     float64\n",
       "GLAT                     float64\n",
       "Conf_68_SemiMajor        float64\n",
       "Conf_68_SemiMinor        float64\n",
       "Conf_68_PosAng           float64\n",
       "Conf_95_SemiMajor        float64\n",
       "Conf_95_SemiMinor        float64\n",
       "Conf_95_PosAng           float64\n",
       "ROI_num                  float64\n",
       "Signif_Avg               float64\n",
       "Pivot_Energy             float64\n",
       "Flux_Density             float64\n",
       "Unc_Flux_Density         float64\n",
       "Flux1000                 float64\n",
       "Unc_Flux1000             float64\n",
       "Energy_Flux100           float64\n",
       "Unc_Energy_Flux100       float64\n",
       "Signif_Curve             float64\n",
       "SpectrumType              object\n",
       "Spectral_Index           float64\n",
       "Unc_Spectral_Index       float64\n",
       "beta                     float64\n",
       "Unc_beta                 float64\n",
       "Cutoff                   float64\n",
       "Unc_Cutoff               float64\n",
       "Exp_Index                float64\n",
       "Unc_Exp_Index            float64\n",
       "PowerLaw_Index           float64\n",
       "Flux30_100               float64\n",
       "Unc_Flux30_100           float64\n",
       "nuFnu30_100              float64\n",
       "Sqrt_TS30_100            float64\n",
       "Flux100_300              float64\n",
       "nuFnu100_300             float64\n",
       "Sqrt_TS100_300           float64\n",
       "Flux300_1000             float64\n",
       "nuFnu300_1000            float64\n",
       "Sqrt_TS300_1000          float64\n",
       "Flux1000_3000            float64\n",
       "nuFnu1000_3000           float64\n",
       "Sqrt_TS1000_3000         float64\n",
       "Flux3000_10000           float64\n",
       "nuFnu3000_10000          float64\n",
       "Sqrt_TS3000_10000        float64\n",
       "Flux10000_100000         float64\n",
       "nuFnu10000_100000        float64\n",
       "Sqrt_TS10000_100000      float64\n",
       "                          ...   \n",
       "DL_x                     float64\n",
       "MOJAVE ASSOC              object\n",
       "B1950 Name                object\n",
       "J2000  Name               object\n",
       "Common  Name              object\n",
       "Right Asc. (J2000)        object\n",
       "Declination (J2000)       object\n",
       "z_y                      float64\n",
       "Opt. ID                   object\n",
       "SED Class                 object\n",
       "Radio  Spectrum           object\n",
       "Fermi 3FGL  Name          object\n",
       "DL_y                     float64\n",
       "0.1-100 GeV (Fermi)_y    float64\n",
       "0.1-2.4 keV (ROSAT)      float64\n",
       "1.40 GHz                 float64\n",
       "1.4GHz_y                 float64\n",
       "100 MeV-100 GeV LAT_y    float64\n",
       "10695 MHz                float64\n",
       "15 GHz (OVRO)            float64\n",
       "15 GHz (VLBA)            float64\n",
       "151 MHz (VLBI)           float64\n",
       "229 GHz (IRAM)           float64\n",
       "23 GHz (WMAP)            float64\n",
       "24 GHz (VLBA)            float64\n",
       "2700 MHz                 float64\n",
       "33 GHz (WMAP)            float64\n",
       "365 MHz (Texas)          float64\n",
       "37 GHz (MRO)             float64\n",
       "4.85 GHz_y               float64\n",
       "408 MHz                  float64\n",
       "41 GHz (WMAP)            float64\n",
       "5 GHz (VLBA)             float64\n",
       "5000 MHz                 float64\n",
       "61 GHz (WMAP)            float64\n",
       "74 MHz (VLA)             float64\n",
       "8.4 GHz (VLA)            float64\n",
       "850 microns (JCMT)       float64\n",
       "86 GHz (IRAM)            float64\n",
       "94 GHz (WMAP)            float64\n",
       "K (WMAP)                 float64\n",
       "Ka (WMAP)                float64\n",
       "NUV (GALEX) AB           float64\n",
       "Q (WMAP)                 float64\n",
       "R                        float64\n",
       "V (WMAP)                 float64\n",
       "W1 (WISE)_y              float64\n",
       "W2 (WISE)_y              float64\n",
       "W3 (WISE)_y              float64\n",
       "W4 (WISE)_y              float64\n",
       "Length: 129, dtype: object"
      ]
     },
     "execution_count": 274,
     "metadata": {},
     "output_type": "execute_result"
    }
   ],
   "source": [
    "lat_mojave_df.dtypes"
   ]
  },
  {
   "cell_type": "code",
   "execution_count": 275,
   "metadata": {},
   "outputs": [
    {
     "data": {
      "text/html": [
       "<div>\n",
       "<style scoped>\n",
       "    .dataframe tbody tr th:only-of-type {\n",
       "        vertical-align: middle;\n",
       "    }\n",
       "\n",
       "    .dataframe tbody tr th {\n",
       "        vertical-align: top;\n",
       "    }\n",
       "\n",
       "    .dataframe thead th {\n",
       "        text-align: right;\n",
       "    }\n",
       "</style>\n",
       "<table border=\"1\" class=\"dataframe\">\n",
       "  <thead>\n",
       "    <tr style=\"text-align: right;\">\n",
       "      <th></th>\n",
       "      <th>Source_Name</th>\n",
       "      <th>RAJ2000</th>\n",
       "      <th>DEJ2000</th>\n",
       "      <th>GLON</th>\n",
       "      <th>GLAT</th>\n",
       "      <th>Conf_68_SemiMajor</th>\n",
       "      <th>Conf_68_SemiMinor</th>\n",
       "      <th>Conf_68_PosAng</th>\n",
       "      <th>Conf_95_SemiMajor</th>\n",
       "      <th>Conf_95_SemiMinor</th>\n",
       "      <th>...</th>\n",
       "      <th>K (WMAP)</th>\n",
       "      <th>Ka (WMAP)</th>\n",
       "      <th>NUV (GALEX) AB</th>\n",
       "      <th>Q (WMAP)</th>\n",
       "      <th>R</th>\n",
       "      <th>V (WMAP)</th>\n",
       "      <th>W1 (WISE)_y</th>\n",
       "      <th>W2 (WISE)_y</th>\n",
       "      <th>W3 (WISE)_y</th>\n",
       "      <th>W4 (WISE)_y</th>\n",
       "    </tr>\n",
       "  </thead>\n",
       "  <tbody>\n",
       "    <tr>\n",
       "      <th>0</th>\n",
       "      <td>3FGL J0009.3+5030</td>\n",
       "      <td>2.3337</td>\n",
       "      <td>50.510399</td>\n",
       "      <td>116.116417</td>\n",
       "      <td>-11.803292</td>\n",
       "      <td>0.012396</td>\n",
       "      <td>0.011841</td>\n",
       "      <td>18.240000</td>\n",
       "      <td>0.0201</td>\n",
       "      <td>0.0192</td>\n",
       "      <td>...</td>\n",
       "      <td>NaN</td>\n",
       "      <td>NaN</td>\n",
       "      <td>NaN</td>\n",
       "      <td>NaN</td>\n",
       "      <td>NaN</td>\n",
       "      <td>NaN</td>\n",
       "      <td>NaN</td>\n",
       "      <td>NaN</td>\n",
       "      <td>NaN</td>\n",
       "      <td>NaN</td>\n",
       "    </tr>\n",
       "    <tr>\n",
       "      <th>1</th>\n",
       "      <td>3FGL J0017.6-0512</td>\n",
       "      <td>4.4045</td>\n",
       "      <td>-5.205000</td>\n",
       "      <td>101.258423</td>\n",
       "      <td>-66.642990</td>\n",
       "      <td>0.043973</td>\n",
       "      <td>0.040519</td>\n",
       "      <td>7.730000</td>\n",
       "      <td>0.0713</td>\n",
       "      <td>0.0657</td>\n",
       "      <td>...</td>\n",
       "      <td>NaN</td>\n",
       "      <td>NaN</td>\n",
       "      <td>NaN</td>\n",
       "      <td>NaN</td>\n",
       "      <td>NaN</td>\n",
       "      <td>NaN</td>\n",
       "      <td>NaN</td>\n",
       "      <td>NaN</td>\n",
       "      <td>NaN</td>\n",
       "      <td>NaN</td>\n",
       "    </tr>\n",
       "    <tr>\n",
       "      <th>2</th>\n",
       "      <td>3FGL J0018.4+2947</td>\n",
       "      <td>4.6030</td>\n",
       "      <td>29.794001</td>\n",
       "      <td>114.432129</td>\n",
       "      <td>-32.532040</td>\n",
       "      <td>0.050880</td>\n",
       "      <td>0.045823</td>\n",
       "      <td>67.879997</td>\n",
       "      <td>0.0825</td>\n",
       "      <td>0.0743</td>\n",
       "      <td>...</td>\n",
       "      <td>NaN</td>\n",
       "      <td>NaN</td>\n",
       "      <td>NaN</td>\n",
       "      <td>NaN</td>\n",
       "      <td>NaN</td>\n",
       "      <td>NaN</td>\n",
       "      <td>NaN</td>\n",
       "      <td>NaN</td>\n",
       "      <td>NaN</td>\n",
       "      <td>NaN</td>\n",
       "    </tr>\n",
       "    <tr>\n",
       "      <th>3</th>\n",
       "      <td>3FGL J0018.9-8152</td>\n",
       "      <td>4.7454</td>\n",
       "      <td>-81.876900</td>\n",
       "      <td>304.330109</td>\n",
       "      <td>-35.163124</td>\n",
       "      <td>0.036017</td>\n",
       "      <td>0.030343</td>\n",
       "      <td>-10.700000</td>\n",
       "      <td>0.0584</td>\n",
       "      <td>0.0492</td>\n",
       "      <td>...</td>\n",
       "      <td>NaN</td>\n",
       "      <td>NaN</td>\n",
       "      <td>NaN</td>\n",
       "      <td>NaN</td>\n",
       "      <td>NaN</td>\n",
       "      <td>NaN</td>\n",
       "      <td>NaN</td>\n",
       "      <td>NaN</td>\n",
       "      <td>NaN</td>\n",
       "      <td>NaN</td>\n",
       "    </tr>\n",
       "    <tr>\n",
       "      <th>4</th>\n",
       "      <td>3FGL J0022.5+0608</td>\n",
       "      <td>5.6430</td>\n",
       "      <td>6.137800</td>\n",
       "      <td>110.023605</td>\n",
       "      <td>-56.008762</td>\n",
       "      <td>0.023559</td>\n",
       "      <td>0.020969</td>\n",
       "      <td>-81.680000</td>\n",
       "      <td>0.0382</td>\n",
       "      <td>0.0340</td>\n",
       "      <td>...</td>\n",
       "      <td>NaN</td>\n",
       "      <td>NaN</td>\n",
       "      <td>NaN</td>\n",
       "      <td>NaN</td>\n",
       "      <td>NaN</td>\n",
       "      <td>NaN</td>\n",
       "      <td>NaN</td>\n",
       "      <td>NaN</td>\n",
       "      <td>NaN</td>\n",
       "      <td>NaN</td>\n",
       "    </tr>\n",
       "    <tr>\n",
       "      <th>5</th>\n",
       "      <td>3FGL J0033.6-1921</td>\n",
       "      <td>8.4022</td>\n",
       "      <td>-19.363800</td>\n",
       "      <td>94.212082</td>\n",
       "      <td>-81.224083</td>\n",
       "      <td>0.011903</td>\n",
       "      <td>0.011656</td>\n",
       "      <td>-72.680000</td>\n",
       "      <td>0.0193</td>\n",
       "      <td>0.0189</td>\n",
       "      <td>...</td>\n",
       "      <td>NaN</td>\n",
       "      <td>NaN</td>\n",
       "      <td>NaN</td>\n",
       "      <td>NaN</td>\n",
       "      <td>NaN</td>\n",
       "      <td>NaN</td>\n",
       "      <td>NaN</td>\n",
       "      <td>NaN</td>\n",
       "      <td>NaN</td>\n",
       "      <td>NaN</td>\n",
       "    </tr>\n",
       "    <tr>\n",
       "      <th>6</th>\n",
       "      <td>3FGL J0035.9+5949</td>\n",
       "      <td>8.9891</td>\n",
       "      <td>59.831799</td>\n",
       "      <td>120.985832</td>\n",
       "      <td>-2.981383</td>\n",
       "      <td>0.011101</td>\n",
       "      <td>0.010608</td>\n",
       "      <td>-67.260002</td>\n",
       "      <td>0.0180</td>\n",
       "      <td>0.0172</td>\n",
       "      <td>...</td>\n",
       "      <td>NaN</td>\n",
       "      <td>NaN</td>\n",
       "      <td>NaN</td>\n",
       "      <td>NaN</td>\n",
       "      <td>NaN</td>\n",
       "      <td>NaN</td>\n",
       "      <td>NaN</td>\n",
       "      <td>NaN</td>\n",
       "      <td>NaN</td>\n",
       "      <td>NaN</td>\n",
       "    </tr>\n",
       "    <tr>\n",
       "      <th>7</th>\n",
       "      <td>3FGL J0045.7+1217</td>\n",
       "      <td>11.4347</td>\n",
       "      <td>12.288100</td>\n",
       "      <td>120.740982</td>\n",
       "      <td>-50.559357</td>\n",
       "      <td>0.023744</td>\n",
       "      <td>0.021894</td>\n",
       "      <td>-86.779999</td>\n",
       "      <td>0.0385</td>\n",
       "      <td>0.0355</td>\n",
       "      <td>...</td>\n",
       "      <td>NaN</td>\n",
       "      <td>NaN</td>\n",
       "      <td>NaN</td>\n",
       "      <td>NaN</td>\n",
       "      <td>NaN</td>\n",
       "      <td>NaN</td>\n",
       "      <td>NaN</td>\n",
       "      <td>NaN</td>\n",
       "      <td>NaN</td>\n",
       "      <td>NaN</td>\n",
       "    </tr>\n",
       "    <tr>\n",
       "      <th>8</th>\n",
       "      <td>3FGL J0047.0+5658</td>\n",
       "      <td>11.7669</td>\n",
       "      <td>56.971500</td>\n",
       "      <td>122.333733</td>\n",
       "      <td>-5.895123</td>\n",
       "      <td>0.026088</td>\n",
       "      <td>0.023744</td>\n",
       "      <td>72.809998</td>\n",
       "      <td>0.0423</td>\n",
       "      <td>0.0385</td>\n",
       "      <td>...</td>\n",
       "      <td>NaN</td>\n",
       "      <td>NaN</td>\n",
       "      <td>NaN</td>\n",
       "      <td>NaN</td>\n",
       "      <td>NaN</td>\n",
       "      <td>NaN</td>\n",
       "      <td>NaN</td>\n",
       "      <td>NaN</td>\n",
       "      <td>NaN</td>\n",
       "      <td>NaN</td>\n",
       "    </tr>\n",
       "    <tr>\n",
       "      <th>9</th>\n",
       "      <td>3FGL J0048.0+2236</td>\n",
       "      <td>12.0133</td>\n",
       "      <td>22.600800</td>\n",
       "      <td>121.908806</td>\n",
       "      <td>-40.264175</td>\n",
       "      <td>0.049770</td>\n",
       "      <td>0.040334</td>\n",
       "      <td>8.870000</td>\n",
       "      <td>0.0807</td>\n",
       "      <td>0.0654</td>\n",
       "      <td>...</td>\n",
       "      <td>NaN</td>\n",
       "      <td>NaN</td>\n",
       "      <td>NaN</td>\n",
       "      <td>NaN</td>\n",
       "      <td>NaN</td>\n",
       "      <td>NaN</td>\n",
       "      <td>NaN</td>\n",
       "      <td>NaN</td>\n",
       "      <td>NaN</td>\n",
       "      <td>NaN</td>\n",
       "    </tr>\n",
       "  </tbody>\n",
       "</table>\n",
       "<p>10 rows × 129 columns</p>\n",
       "</div>"
      ],
      "text/plain": [
       "          Source_Name  RAJ2000    DEJ2000        GLON       GLAT  \\\n",
       "0  3FGL J0009.3+5030    2.3337  50.510399  116.116417 -11.803292   \n",
       "1  3FGL J0017.6-0512    4.4045  -5.205000  101.258423 -66.642990   \n",
       "2  3FGL J0018.4+2947    4.6030  29.794001  114.432129 -32.532040   \n",
       "3  3FGL J0018.9-8152    4.7454 -81.876900  304.330109 -35.163124   \n",
       "4  3FGL J0022.5+0608    5.6430   6.137800  110.023605 -56.008762   \n",
       "5  3FGL J0033.6-1921    8.4022 -19.363800   94.212082 -81.224083   \n",
       "6  3FGL J0035.9+5949    8.9891  59.831799  120.985832  -2.981383   \n",
       "7  3FGL J0045.7+1217   11.4347  12.288100  120.740982 -50.559357   \n",
       "8  3FGL J0047.0+5658   11.7669  56.971500  122.333733  -5.895123   \n",
       "9  3FGL J0048.0+2236   12.0133  22.600800  121.908806 -40.264175   \n",
       "\n",
       "   Conf_68_SemiMajor  Conf_68_SemiMinor  Conf_68_PosAng  Conf_95_SemiMajor  \\\n",
       "0           0.012396           0.011841       18.240000             0.0201   \n",
       "1           0.043973           0.040519        7.730000             0.0713   \n",
       "2           0.050880           0.045823       67.879997             0.0825   \n",
       "3           0.036017           0.030343      -10.700000             0.0584   \n",
       "4           0.023559           0.020969      -81.680000             0.0382   \n",
       "5           0.011903           0.011656      -72.680000             0.0193   \n",
       "6           0.011101           0.010608      -67.260002             0.0180   \n",
       "7           0.023744           0.021894      -86.779999             0.0385   \n",
       "8           0.026088           0.023744       72.809998             0.0423   \n",
       "9           0.049770           0.040334        8.870000             0.0807   \n",
       "\n",
       "   Conf_95_SemiMinor     ...       K (WMAP)  Ka (WMAP)  NUV (GALEX) AB  \\\n",
       "0             0.0192     ...            NaN        NaN             NaN   \n",
       "1             0.0657     ...            NaN        NaN             NaN   \n",
       "2             0.0743     ...            NaN        NaN             NaN   \n",
       "3             0.0492     ...            NaN        NaN             NaN   \n",
       "4             0.0340     ...            NaN        NaN             NaN   \n",
       "5             0.0189     ...            NaN        NaN             NaN   \n",
       "6             0.0172     ...            NaN        NaN             NaN   \n",
       "7             0.0355     ...            NaN        NaN             NaN   \n",
       "8             0.0385     ...            NaN        NaN             NaN   \n",
       "9             0.0654     ...            NaN        NaN             NaN   \n",
       "\n",
       "   Q (WMAP)   R  V (WMAP)  W1 (WISE)_y  W2 (WISE)_y  W3 (WISE)_y  W4 (WISE)_y  \n",
       "0       NaN NaN       NaN          NaN          NaN          NaN          NaN  \n",
       "1       NaN NaN       NaN          NaN          NaN          NaN          NaN  \n",
       "2       NaN NaN       NaN          NaN          NaN          NaN          NaN  \n",
       "3       NaN NaN       NaN          NaN          NaN          NaN          NaN  \n",
       "4       NaN NaN       NaN          NaN          NaN          NaN          NaN  \n",
       "5       NaN NaN       NaN          NaN          NaN          NaN          NaN  \n",
       "6       NaN NaN       NaN          NaN          NaN          NaN          NaN  \n",
       "7       NaN NaN       NaN          NaN          NaN          NaN          NaN  \n",
       "8       NaN NaN       NaN          NaN          NaN          NaN          NaN  \n",
       "9       NaN NaN       NaN          NaN          NaN          NaN          NaN  \n",
       "\n",
       "[10 rows x 129 columns]"
      ]
     },
     "execution_count": 275,
     "metadata": {},
     "output_type": "execute_result"
    }
   ],
   "source": [
    "lat_mojave_df.head(10)"
   ]
  },
  {
   "cell_type": "markdown",
   "metadata": {},
   "source": [
    "### Redundent Columns\n",
    "\n",
    "The merger resulted in the correct number of sources, but the columns with the '_x' or '_y' are from columns the two data frames had in common. My next step is to condense those colums into one. "
   ]
  },
  {
   "cell_type": "code",
   "execution_count": 327,
   "metadata": {},
   "outputs": [
    {
     "data": {
      "text/plain": [
       "Index(['0.1-100 GeV (Fermi)', '1.4GHz', '100 MeV-100 GeV LAT', '4.85 GHz',\n",
       "       'W1 (WISE)', 'W2 (WISE)', 'W3 (WISE)', 'W4 (WISE)', 'z', 'DL'],\n",
       "      dtype='object')"
      ]
     },
     "execution_count": 327,
     "metadata": {},
     "output_type": "execute_result"
    }
   ],
   "source": [
    "lat_df.columns.intersection(mojave_df.columns)"
   ]
  },
  {
   "cell_type": "code",
   "execution_count": 287,
   "metadata": {},
   "outputs": [
    {
     "data": {
      "text/plain": [
       "(529, 128)"
      ]
     },
     "execution_count": 287,
     "metadata": {},
     "output_type": "execute_result"
    }
   ],
   "source": [
    "lat_mojave_df['z'] = lat_mojave_df['z_x'].combine_first(lat_mojave_df['z_y'])\n",
    "lat_mojave_df = lat_mojave_df.drop(['z_x'], axis=1) \n",
    "lat_mojave_df = lat_mojave_df.drop(['z_y'], axis=1)\n",
    "lat_mojave_df.shape"
   ]
  },
  {
   "cell_type": "code",
   "execution_count": 268,
   "metadata": {},
   "outputs": [
    {
     "data": {
      "text/plain": [
       "0"
      ]
     },
     "execution_count": 268,
     "metadata": {},
     "output_type": "execute_result"
    }
   ],
   "source": [
    "lat_df['z'].isna().sum()"
   ]
  },
  {
   "cell_type": "code",
   "execution_count": 276,
   "metadata": {},
   "outputs": [
    {
     "data": {
      "text/plain": [
       "0"
      ]
     },
     "execution_count": 276,
     "metadata": {},
     "output_type": "execute_result"
    }
   ],
   "source": [
    "mojave_df['z'].isna().sum()"
   ]
  },
  {
   "cell_type": "code",
   "execution_count": 278,
   "metadata": {},
   "outputs": [
    {
     "data": {
      "text/plain": [
       "0"
      ]
     },
     "execution_count": 278,
     "metadata": {},
     "output_type": "execute_result"
    }
   ],
   "source": [
    "lat_mojave_df['z'].isna().sum()"
   ]
  },
  {
   "cell_type": "code",
   "execution_count": 353,
   "metadata": {},
   "outputs": [
    {
     "name": "stderr",
     "output_type": "stream",
     "text": [
      "C:\\Users\\Nate\\Anaconda3\\lib\\site-packages\\matplotlib\\axes\\_axes.py:6462: UserWarning: The 'normed' kwarg is deprecated, and has been replaced by the 'density' kwarg.\n",
      "  warnings.warn(\"The 'normed' kwarg is deprecated, and has been \"\n"
     ]
    },
    {
     "data": {
      "image/png": "[encoded data removed]",
      "text/plain": [
       "<Figure size 432x288 with 1 Axes>"
      ]
     },
     "metadata": {},
     "output_type": "display_data"
    }
   ],
   "source": [
    "lm_z = sns.distplot(lat_mojave_df['z'], kde=False)\n",
    "fig = lm_z.get_figure()\n",
    "fig.savefig('zdist.png')"
   ]
  },
  {
   "cell_type": "code",
   "execution_count": 281,
   "metadata": {},
   "outputs": [
    {
     "name": "stderr",
     "output_type": "stream",
     "text": [
      "C:\\Users\\Nate\\Anaconda3\\lib\\site-packages\\matplotlib\\axes\\_axes.py:6462: UserWarning: The 'normed' kwarg is deprecated, and has been replaced by the 'density' kwarg.\n",
      "  warnings.warn(\"The 'normed' kwarg is deprecated, and has been \"\n"
     ]
    },
    {
     "data": {
      "text/plain": [
       "<matplotlib.axes._subplots.AxesSubplot at 0x1f0500d4978>"
      ]
     },
     "execution_count": 281,
     "metadata": {},
     "output_type": "execute_result"
    },
    {
     "data": {
      "image/png": "[encoded data removed]",
      "text/plain": [
       "<Figure size 432x288 with 1 Axes>"
      ]
     },
     "metadata": {},
     "output_type": "display_data"
    }
   ],
   "source": [
    "sns.distplot(mojave_df['z'], kde=False)"
   ]
  },
  {
   "cell_type": "code",
   "execution_count": 282,
   "metadata": {},
   "outputs": [
    {
     "name": "stderr",
     "output_type": "stream",
     "text": [
      "C:\\Users\\Nate\\Anaconda3\\lib\\site-packages\\matplotlib\\axes\\_axes.py:6462: UserWarning: The 'normed' kwarg is deprecated, and has been replaced by the 'density' kwarg.\n",
      "  warnings.warn(\"The 'normed' kwarg is deprecated, and has been \"\n"
     ]
    },
    {
     "data": {
      "text/plain": [
       "<matplotlib.axes._subplots.AxesSubplot at 0x1f0500c3d68>"
      ]
     },
     "execution_count": 282,
     "metadata": {},
     "output_type": "execute_result"
    },
    {
     "data": {
      "image/png": "[encoded data removed]",
      "text/plain": [
       "<Figure size 432x288 with 1 Axes>"
      ]
     },
     "metadata": {},
     "output_type": "display_data"
    }
   ],
   "source": [
    "sns.distplot(lat_df['z'], kde=False)"
   ]
  },
  {
   "cell_type": "code",
   "execution_count": 289,
   "metadata": {},
   "outputs": [
    {
     "data": {
      "text/plain": [
       "(529, 127)"
      ]
     },
     "execution_count": 289,
     "metadata": {},
     "output_type": "execute_result"
    }
   ],
   "source": [
    "lat_mojave_df['DL'] = lat_mojave_df['DL_x'].combine_first(lat_mojave_df['DL_y'])\n",
    "lat_mojave_df = lat_mojave_df.drop(['DL_x'], axis=1) \n",
    "lat_mojave_df = lat_mojave_df.drop(['DL_y'], axis=1)\n",
    "lat_mojave_df.shape"
   ]
  },
  {
   "cell_type": "code",
   "execution_count": 290,
   "metadata": {},
   "outputs": [
    {
     "name": "stderr",
     "output_type": "stream",
     "text": [
      "C:\\Users\\Nate\\Anaconda3\\lib\\site-packages\\matplotlib\\axes\\_axes.py:6462: UserWarning: The 'normed' kwarg is deprecated, and has been replaced by the 'density' kwarg.\n",
      "  warnings.warn(\"The 'normed' kwarg is deprecated, and has been \"\n"
     ]
    },
    {
     "data": {
      "text/plain": [
       "<matplotlib.axes._subplots.AxesSubplot at 0x1f0501d0ba8>"
      ]
     },
     "execution_count": 290,
     "metadata": {},
     "output_type": "execute_result"
    },
    {
     "data": {
      "image/png": "[encoded data removed]",
      "text/plain": [
       "<Figure size 432x288 with 1 Axes>"
      ]
     },
     "metadata": {},
     "output_type": "display_data"
    }
   ],
   "source": [
    "sns.distplot(lat_df['DL'], kde=False)"
   ]
  },
  {
   "cell_type": "code",
   "execution_count": 292,
   "metadata": {},
   "outputs": [
    {
     "data": {
      "text/plain": [
       "(529, 126)"
      ]
     },
     "execution_count": 292,
     "metadata": {},
     "output_type": "execute_result"
    }
   ],
   "source": [
    "lat_mojave_df['0.1-100 GeV (Fermi)'] = lat_mojave_df['0.1-100 GeV (Fermi)_x'].combine_first(lat_mojave_df['0.1-100 GeV (Fermi)_y'])\n",
    "lat_mojave_df = lat_mojave_df.drop(['0.1-100 GeV (Fermi)_x'], axis=1) \n",
    "lat_mojave_df = lat_mojave_df.drop(['0.1-100 GeV (Fermi)_y'], axis=1)\n",
    "lat_mojave_df.shape"
   ]
  },
  {
   "cell_type": "code",
   "execution_count": 294,
   "metadata": {},
   "outputs": [
    {
     "data": {
      "text/plain": [
       "33"
      ]
     },
     "execution_count": 294,
     "metadata": {},
     "output_type": "execute_result"
    }
   ],
   "source": [
    "lat_df['0.1-100 GeV (Fermi)'].isna().sum()"
   ]
  },
  {
   "cell_type": "code",
   "execution_count": 295,
   "metadata": {},
   "outputs": [
    {
     "data": {
      "text/plain": [
       "99"
      ]
     },
     "execution_count": 295,
     "metadata": {},
     "output_type": "execute_result"
    }
   ],
   "source": [
    "mojave_df['0.1-100 GeV (Fermi)'].isna().sum()"
   ]
  },
  {
   "cell_type": "code",
   "execution_count": 296,
   "metadata": {},
   "outputs": [
    {
     "data": {
      "text/plain": [
       "122"
      ]
     },
     "execution_count": 296,
     "metadata": {},
     "output_type": "execute_result"
    }
   ],
   "source": [
    "lat_mojave_df['0.1-100 GeV (Fermi)'].isna().sum()"
   ]
  },
  {
   "cell_type": "code",
   "execution_count": 297,
   "metadata": {},
   "outputs": [
    {
     "data": {
      "text/plain": [
       "(529, 125)"
      ]
     },
     "execution_count": 297,
     "metadata": {},
     "output_type": "execute_result"
    }
   ],
   "source": [
    "lat_mojave_df['1.4GHz'] = lat_mojave_df['1.4GHz_x'].combine_first(lat_mojave_df['1.4GHz_y'])\n",
    "lat_mojave_df = lat_mojave_df.drop(['1.4GHz_x'], axis=1) \n",
    "lat_mojave_df = lat_mojave_df.drop(['1.4GHz_y'], axis=1)\n",
    "lat_mojave_df.shape"
   ]
  },
  {
   "cell_type": "code",
   "execution_count": 298,
   "metadata": {},
   "outputs": [
    {
     "data": {
      "text/plain": [
       "99"
      ]
     },
     "execution_count": 298,
     "metadata": {},
     "output_type": "execute_result"
    }
   ],
   "source": [
    "lat_mojave_df['1.4GHz'].isna().sum()"
   ]
  },
  {
   "cell_type": "code",
   "execution_count": 299,
   "metadata": {},
   "outputs": [
    {
     "data": {
      "text/plain": [
       "6"
      ]
     },
     "execution_count": 299,
     "metadata": {},
     "output_type": "execute_result"
    }
   ],
   "source": [
    "mojave_df['1.4GHz'].isna().sum()"
   ]
  },
  {
   "cell_type": "code",
   "execution_count": 300,
   "metadata": {},
   "outputs": [
    {
     "data": {
      "text/plain": [
       "96"
      ]
     },
     "execution_count": 300,
     "metadata": {},
     "output_type": "execute_result"
    }
   ],
   "source": [
    "lat_df['1.4GHz'].isna().sum()"
   ]
  },
  {
   "cell_type": "code",
   "execution_count": 301,
   "metadata": {},
   "outputs": [
    {
     "data": {
      "text/plain": [
       "(529, 124)"
      ]
     },
     "execution_count": 301,
     "metadata": {},
     "output_type": "execute_result"
    }
   ],
   "source": [
    "lat_mojave_df['100 MeV-100 GeV LAT'] = lat_mojave_df['100 MeV-100 GeV LAT_x'].combine_first(lat_mojave_df['100 MeV-100 GeV LAT_y'])\n",
    "lat_mojave_df = lat_mojave_df.drop(['100 MeV-100 GeV LAT_x'], axis=1) \n",
    "lat_mojave_df = lat_mojave_df.drop(['100 MeV-100 GeV LAT_y'], axis=1)\n",
    "lat_mojave_df.shape"
   ]
  },
  {
   "cell_type": "code",
   "execution_count": 302,
   "metadata": {},
   "outputs": [
    {
     "data": {
      "text/plain": [
       "163"
      ]
     },
     "execution_count": 302,
     "metadata": {},
     "output_type": "execute_result"
    }
   ],
   "source": [
    "lat_mojave_df['100 MeV-100 GeV LAT'].isna().sum()"
   ]
  },
  {
   "cell_type": "code",
   "execution_count": 303,
   "metadata": {},
   "outputs": [
    {
     "data": {
      "text/plain": [
       "95"
      ]
     },
     "execution_count": 303,
     "metadata": {},
     "output_type": "execute_result"
    }
   ],
   "source": [
    "mojave_df['100 MeV-100 GeV LAT'].isna().sum()"
   ]
  },
  {
   "cell_type": "code",
   "execution_count": 304,
   "metadata": {},
   "outputs": [
    {
     "data": {
      "text/plain": [
       "73"
      ]
     },
     "execution_count": 304,
     "metadata": {},
     "output_type": "execute_result"
    }
   ],
   "source": [
    "lat_df['100 MeV-100 GeV LAT'].isna().sum()"
   ]
  },
  {
   "cell_type": "code",
   "execution_count": null,
   "metadata": {},
   "outputs": [],
   "source": [
    "lat_mojave_df['100 MeV-100 GeV LAT'] = lat_mojave_df['100 MeV-100 GeV LAT_x'].combine_first(lat_mojave_df['100 MeV-100 GeV LAT_y'])\n",
    "lat_mojave_df = lat_mojave_df.drop(['100 MeV-100 GeV LAT_x'], axis=1) \n",
    "lat_mojave_df = lat_mojave_df.drop(['100 MeV-100 GeV LAT_y'], axis=1)\n",
    "lat_mojave_df.shape"
   ]
  },
  {
   "cell_type": "code",
   "execution_count": 305,
   "metadata": {},
   "outputs": [
    {
     "data": {
      "text/plain": [
       "(529, 123)"
      ]
     },
     "execution_count": 305,
     "metadata": {},
     "output_type": "execute_result"
    }
   ],
   "source": [
    "lat_mojave_df['4.85 GHz'] = lat_mojave_df['4.85 GHz_x'].combine_first(lat_mojave_df['4.85 GHz_y'])\n",
    "lat_mojave_df = lat_mojave_df.drop(['4.85 GHz_x'], axis=1) \n",
    "lat_mojave_df = lat_mojave_df.drop(['4.85 GHz_y'], axis=1)\n",
    "lat_mojave_df.shape"
   ]
  },
  {
   "cell_type": "code",
   "execution_count": 307,
   "metadata": {},
   "outputs": [
    {
     "data": {
      "text/plain": [
       "83"
      ]
     },
     "execution_count": 307,
     "metadata": {},
     "output_type": "execute_result"
    }
   ],
   "source": [
    "lat_mojave_df['4.85 GHz'].isna().sum()"
   ]
  },
  {
   "cell_type": "code",
   "execution_count": 308,
   "metadata": {},
   "outputs": [
    {
     "data": {
      "text/plain": [
       "7"
      ]
     },
     "execution_count": 308,
     "metadata": {},
     "output_type": "execute_result"
    }
   ],
   "source": [
    "mojave_df['4.85 GHz'].isna().sum()"
   ]
  },
  {
   "cell_type": "code",
   "execution_count": 309,
   "metadata": {},
   "outputs": [
    {
     "data": {
      "text/plain": [
       "82"
      ]
     },
     "execution_count": 309,
     "metadata": {},
     "output_type": "execute_result"
    }
   ],
   "source": [
    "lat_df['4.85 GHz'].isna().sum()"
   ]
  },
  {
   "cell_type": "code",
   "execution_count": 310,
   "metadata": {},
   "outputs": [
    {
     "data": {
      "text/plain": [
       "(529, 122)"
      ]
     },
     "execution_count": 310,
     "metadata": {},
     "output_type": "execute_result"
    }
   ],
   "source": [
    "lat_mojave_df['W1 (WISE)'] = lat_mojave_df['W1 (WISE)_x'].combine_first(lat_mojave_df['W1 (WISE)_y'])\n",
    "lat_mojave_df = lat_mojave_df.drop(['W1 (WISE)_x'], axis=1) \n",
    "lat_mojave_df = lat_mojave_df.drop(['W1 (WISE)_y'], axis=1)\n",
    "lat_mojave_df.shape"
   ]
  },
  {
   "cell_type": "code",
   "execution_count": 311,
   "metadata": {},
   "outputs": [
    {
     "data": {
      "text/plain": [
       "112"
      ]
     },
     "execution_count": 311,
     "metadata": {},
     "output_type": "execute_result"
    }
   ],
   "source": [
    "lat_mojave_df['W1 (WISE)'].isna().sum()"
   ]
  },
  {
   "cell_type": "code",
   "execution_count": 312,
   "metadata": {},
   "outputs": [
    {
     "data": {
      "text/plain": [
       "39"
      ]
     },
     "execution_count": 312,
     "metadata": {},
     "output_type": "execute_result"
    }
   ],
   "source": [
    "mojave_df['W1 (WISE)'].isna().sum()"
   ]
  },
  {
   "cell_type": "code",
   "execution_count": 313,
   "metadata": {},
   "outputs": [
    {
     "data": {
      "text/plain": [
       "92"
      ]
     },
     "execution_count": 313,
     "metadata": {},
     "output_type": "execute_result"
    }
   ],
   "source": [
    "lat_df['W1 (WISE)'].isna().sum()"
   ]
  },
  {
   "cell_type": "code",
   "execution_count": 315,
   "metadata": {},
   "outputs": [
    {
     "data": {
      "text/plain": [
       "(529, 121)"
      ]
     },
     "execution_count": 315,
     "metadata": {},
     "output_type": "execute_result"
    }
   ],
   "source": [
    "lat_mojave_df['W2 (WISE)'] = lat_mojave_df['W2 (WISE)_x'].combine_first(lat_mojave_df['W2 (WISE)_y'])\n",
    "lat_mojave_df = lat_mojave_df.drop(['W2 (WISE)_x'], axis=1) \n",
    "lat_mojave_df = lat_mojave_df.drop(['W2 (WISE)_y'], axis=1)\n",
    "lat_mojave_df.shape"
   ]
  },
  {
   "cell_type": "code",
   "execution_count": 316,
   "metadata": {},
   "outputs": [
    {
     "data": {
      "text/plain": [
       "112"
      ]
     },
     "execution_count": 316,
     "metadata": {},
     "output_type": "execute_result"
    }
   ],
   "source": [
    "lat_mojave_df['W2 (WISE)'].isna().sum()"
   ]
  },
  {
   "cell_type": "code",
   "execution_count": 317,
   "metadata": {},
   "outputs": [
    {
     "data": {
      "text/plain": [
       "39"
      ]
     },
     "execution_count": 317,
     "metadata": {},
     "output_type": "execute_result"
    }
   ],
   "source": [
    "mojave_df['W2 (WISE)'].isna().sum()"
   ]
  },
  {
   "cell_type": "code",
   "execution_count": 318,
   "metadata": {},
   "outputs": [
    {
     "data": {
      "text/plain": [
       "92"
      ]
     },
     "execution_count": 318,
     "metadata": {},
     "output_type": "execute_result"
    }
   ],
   "source": [
    "lat_df['W2 (WISE)'].isna().sum()"
   ]
  },
  {
   "cell_type": "code",
   "execution_count": 319,
   "metadata": {},
   "outputs": [
    {
     "data": {
      "text/plain": [
       "(529, 120)"
      ]
     },
     "execution_count": 319,
     "metadata": {},
     "output_type": "execute_result"
    }
   ],
   "source": [
    "lat_mojave_df['W3 (WISE)'] = lat_mojave_df['W3 (WISE)_x'].combine_first(lat_mojave_df['W3 (WISE)_y'])\n",
    "lat_mojave_df = lat_mojave_df.drop(['W3 (WISE)_x'], axis=1) \n",
    "lat_mojave_df = lat_mojave_df.drop(['W3 (WISE)_y'], axis=1)\n",
    "lat_mojave_df.shape"
   ]
  },
  {
   "cell_type": "code",
   "execution_count": 320,
   "metadata": {},
   "outputs": [
    {
     "data": {
      "text/plain": [
       "112"
      ]
     },
     "execution_count": 320,
     "metadata": {},
     "output_type": "execute_result"
    }
   ],
   "source": [
    "lat_mojave_df['W3 (WISE)'].isna().sum()"
   ]
  },
  {
   "cell_type": "code",
   "execution_count": 321,
   "metadata": {},
   "outputs": [
    {
     "data": {
      "text/plain": [
       "39"
      ]
     },
     "execution_count": 321,
     "metadata": {},
     "output_type": "execute_result"
    }
   ],
   "source": [
    "mojave_df['W3 (WISE)'].isna().sum()"
   ]
  },
  {
   "cell_type": "code",
   "execution_count": 322,
   "metadata": {},
   "outputs": [
    {
     "data": {
      "text/plain": [
       "92"
      ]
     },
     "execution_count": 322,
     "metadata": {},
     "output_type": "execute_result"
    }
   ],
   "source": [
    "lat_df['W3 (WISE)'].isna().sum()"
   ]
  },
  {
   "cell_type": "code",
   "execution_count": 323,
   "metadata": {},
   "outputs": [
    {
     "data": {
      "text/plain": [
       "(529, 119)"
      ]
     },
     "execution_count": 323,
     "metadata": {},
     "output_type": "execute_result"
    }
   ],
   "source": [
    "lat_mojave_df['W4 (WISE)'] = lat_mojave_df['W4 (WISE)_x'].combine_first(lat_mojave_df['W4 (WISE)_y'])\n",
    "lat_mojave_df = lat_mojave_df.drop(['W4 (WISE)_x'], axis=1) \n",
    "lat_mojave_df = lat_mojave_df.drop(['W4 (WISE)_y'], axis=1)\n",
    "lat_mojave_df.shape"
   ]
  },
  {
   "cell_type": "code",
   "execution_count": 324,
   "metadata": {},
   "outputs": [
    {
     "data": {
      "text/plain": [
       "132"
      ]
     },
     "execution_count": 324,
     "metadata": {},
     "output_type": "execute_result"
    }
   ],
   "source": [
    "lat_mojave_df['W4 (WISE)'].isna().sum()"
   ]
  },
  {
   "cell_type": "code",
   "execution_count": 325,
   "metadata": {},
   "outputs": [
    {
     "data": {
      "text/plain": [
       "39"
      ]
     },
     "execution_count": 325,
     "metadata": {},
     "output_type": "execute_result"
    }
   ],
   "source": [
    "mojave_df['W4 (WISE)'].isna().sum()"
   ]
  },
  {
   "cell_type": "code",
   "execution_count": 326,
   "metadata": {},
   "outputs": [
    {
     "data": {
      "text/plain": [
       "112"
      ]
     },
     "execution_count": 326,
     "metadata": {},
     "output_type": "execute_result"
    }
   ],
   "source": [
    "lat_df['W4 (WISE)'].isna().sum()"
   ]
  },
  {
   "cell_type": "code",
   "execution_count": null,
   "metadata": {},
   "outputs": [],
   "source": [
    "lat_mojave_df['CLASS'] = lat_mojave_df['CLASS1'].combine_first(lat_mojave_df['Opt. ID'])\n",
    "lat_mojave_df.shape"
   ]
  },
  {
   "cell_type": "code",
   "execution_count": null,
   "metadata": {},
   "outputs": [],
   "source": [
    "lat_mojave_df['CLASS'].isna().sum()"
   ]
  },
  {
   "cell_type": "code",
   "execution_count": null,
   "metadata": {},
   "outputs": [],
   "source": [
    "lat_df['CLASS1'].isna().sum()"
   ]
  },
  {
   "cell_type": "code",
   "execution_count": null,
   "metadata": {},
   "outputs": [],
   "source": [
    "mojave_df['Opt. ID'].isna().sum()"
   ]
  },
  {
   "cell_type": "code",
   "execution_count": null,
   "metadata": {},
   "outputs": [],
   "source": [
    "lat_mojave_df = lat_mojave_df.drop(['CLASS1'], axis=1) \n",
    "lat_mojave_df = lat_mojave_df.drop(['Opt. ID'], axis=1)"
   ]
  },
  {
   "cell_type": "code",
   "execution_count": 334,
   "metadata": {},
   "outputs": [
    {
     "data": {
      "text/plain": [
       "(529, 118)"
      ]
     },
     "execution_count": 334,
     "metadata": {},
     "output_type": "execute_result"
    }
   ],
   "source": [
    "lat_mojave_df.shape"
   ]
  },
  {
   "cell_type": "code",
   "execution_count": 356,
   "metadata": {},
   "outputs": [
    {
     "data": {
      "text/plain": [
       "(529, 119)"
      ]
     },
     "execution_count": 356,
     "metadata": {},
     "output_type": "execute_result"
    }
   ],
   "source": [
    "lat_mojave_df['Name'] = lat_mojave_df['Source_Name'].combine_first(lat_mojave_df['J2000  Name'])\n",
    "lat_mojave_df.shape"
   ]
  },
  {
   "cell_type": "code",
   "execution_count": 357,
   "metadata": {},
   "outputs": [
    {
     "data": {
      "text/plain": [
       "0"
      ]
     },
     "execution_count": 357,
     "metadata": {},
     "output_type": "execute_result"
    }
   ],
   "source": [
    "lat_mojave_df['Name'].isna().sum()"
   ]
  },
  {
   "cell_type": "code",
   "execution_count": 358,
   "metadata": {},
   "outputs": [],
   "source": [
    "lat_mojave_df = lat_mojave_df.drop(['Source_Name'], axis=1)\n",
    "lat_mojave_df = lat_mojave_df.drop(['J2000  Name'], axis=1)"
   ]
  },
  {
   "cell_type": "markdown",
   "metadata": {},
   "source": [
    "Now all the redundant columns have been combined. I now have a dataframe that can be used to build a classifaction engine for AGN. I will begin by data exploration then test several different classifaction algorithms."
   ]
  },
  {
   "cell_type": "markdown",
   "metadata": {},
   "source": [
    "## Statistical Analysis Samples\n",
    "\n",
    "I will now perform some basic statistical analysis of both the MOJAVE and Fermi LAT AGN Samples. The purpose of this analysis is to guide decision making into what machine learning algorithms may best be suitable for predict classifaction of the unknown objects in each sample. "
   ]
  },
  {
   "cell_type": "code",
   "execution_count": 352,
   "metadata": {},
   "outputs": [
    {
     "data": {
      "image/png": "[encoded data removed]",
      "text/plain": [
       "<Figure size 432x288 with 1 Axes>"
      ]
     },
     "metadata": {},
     "output_type": "display_data"
    }
   ],
   "source": [
    "lclass = sns.countplot(lat_df['CLASS1'])\n",
    "#plt.xticks(rotation=90)\n",
    "fig = lclass.get_figure()\n",
    "fig.savefig('latclass.png')"
   ]
  },
  {
   "cell_type": "code",
   "execution_count": 351,
   "metadata": {},
   "outputs": [
    {
     "data": {
      "image/png": "[encoded data removed]",
      "text/plain": [
       "<Figure size 432x288 with 1 Axes>"
      ]
     },
     "metadata": {},
     "output_type": "display_data"
    }
   ],
   "source": [
    "mclass =sns.countplot(mojave_df['Opt. ID'])\n",
    "#plt.xticks(rotation=90)\n",
    "fig = mclass.get_figure()\n",
    "fig.savefig('mojaveclass.png')"
   ]
  },
  {
   "cell_type": "code",
   "execution_count": null,
   "metadata": {},
   "outputs": [],
   "source": [
    "sns.countplot(mojave_df['Opt. ID'])\n",
    "plt.xticks(rotation=90)"
   ]
  },
  {
   "cell_type": "code",
   "execution_count": 350,
   "metadata": {},
   "outputs": [
    {
     "data": {
      "image/png": "[encoded data removed]",
      "text/plain": [
       "<Figure size 432x288 with 1 Axes>"
      ]
     },
     "metadata": {},
     "output_type": "display_data"
    }
   ],
   "source": [
    "tclass=sns.countplot(lat_mojave_df['CLASS'])\n",
    "#plt.xticks(rotation=90)\n",
    "fig = tclass.get_figure()\n",
    "fig.savefig('totalclass.png')"
   ]
  },
  {
   "cell_type": "code",
   "execution_count": 343,
   "metadata": {},
   "outputs": [
    {
     "name": "stderr",
     "output_type": "stream",
     "text": [
      "C:\\Users\\Nate\\Anaconda3\\lib\\site-packages\\statsmodels\\nonparametric\\kde.py:448: RuntimeWarning: invalid value encountered in greater\n",
      "  X = X[np.logical_and(X > clip[0], X < clip[1])] # won't work for two columns.\n",
      "C:\\Users\\Nate\\Anaconda3\\lib\\site-packages\\statsmodels\\nonparametric\\kde.py:448: RuntimeWarning: invalid value encountered in less\n",
      "  X = X[np.logical_and(X > clip[0], X < clip[1])] # won't work for two columns.\n"
     ]
    },
    {
     "data": {
      "image/png": "[encoded data removed]",
      "text/plain": [
       "<Figure size 943.75x900 with 30 Axes>"
      ]
     },
     "metadata": {},
     "output_type": "display_data"
    }
   ],
   "source": [
    "g = sns.pairplot(lat_mojave_df[['0.1-100 GeV (Fermi)','1.4GHz','4.85 GHz', 'W1 (WISE)','100 MeV-100 GeV LAT','CLASS']], hue='CLASS',diag_kind=\"kde\")\n",
    "g.savefig('AGNpair.png')"
   ]
  },
  {
   "cell_type": "markdown",
   "metadata": {},
   "source": [
    "## Classification Methods\n",
    "\n",
    "Since this study is setting the ground work for a larger study in building classifaction engines we will start with two. The first will be a basic KNN classifier to act as a benchmark for future algorithms. Next the SVM method will be used since it can output a linear formula for classification. This may be of inteterest to Astronomers since that formula may reveal some information of the underlying physics of these objects.\n",
    "\n",
    "Before I train these methods some pretreatment of the data has to occur. First We need to convert from a flux density which is what the detector on Earth measures to a luminoisty, which is what the source actually outputs. I will do this by multiplying the flux denisties by luminosity distance squared.  However these measurements range from 0 to close to 10,000 Mpc. I will scale these measurements by dividing by the mean. Then I will sicne these measurments are each on a different scale, I will then rescale everything by dividing by that columns mean.\n",
    "\n",
    "I will focus this section on the data columns seen in the paitplot above. "
   ]
  },
  {
   "cell_type": "code",
   "execution_count": 359,
   "metadata": {},
   "outputs": [
    {
     "name": "stderr",
     "output_type": "stream",
     "text": [
      "C:\\Users\\Nate\\Anaconda3\\lib\\site-packages\\sklearn\\cross_validation.py:41: DeprecationWarning: This module was deprecated in version 0.18 in favor of the model_selection module into which all the refactored classes and functions are moved. Also note that the interface of the new CV iterators are different from that of this module. This module will be removed in 0.20.\n",
      "  \"This module will be removed in 0.20.\", DeprecationWarning)\n"
     ]
    }
   ],
   "source": [
    "# Call in the methods needed \n",
    "\n",
    "from sklearn.cross_validation import train_test_split\n",
    "from sklearn.neighbors import KNeighborsClassifier \n",
    "from sklearn.svm import SVC\n",
    "from sklearn import metrics"
   ]
  },
  {
   "cell_type": "code",
   "execution_count": 384,
   "metadata": {},
   "outputs": [
    {
     "data": {
      "text/html": [
       "<div>\n",
       "<style scoped>\n",
       "    .dataframe tbody tr th:only-of-type {\n",
       "        vertical-align: middle;\n",
       "    }\n",
       "\n",
       "    .dataframe tbody tr th {\n",
       "        vertical-align: top;\n",
       "    }\n",
       "\n",
       "    .dataframe thead th {\n",
       "        text-align: right;\n",
       "    }\n",
       "</style>\n",
       "<table border=\"1\" class=\"dataframe\">\n",
       "  <thead>\n",
       "    <tr style=\"text-align: right;\">\n",
       "      <th></th>\n",
       "      <th>0.1-100 GeV (Fermi)</th>\n",
       "      <th>1.4GHz</th>\n",
       "      <th>4.85 GHz</th>\n",
       "      <th>W1 (WISE)</th>\n",
       "      <th>100 MeV-100 GeV LAT</th>\n",
       "      <th>DL</th>\n",
       "      <th>CLASS</th>\n",
       "      <th>Name</th>\n",
       "    </tr>\n",
       "  </thead>\n",
       "  <tbody>\n",
       "    <tr>\n",
       "      <th>0</th>\n",
       "      <td>2.110000e-13</td>\n",
       "      <td>0.0121</td>\n",
       "      <td>NaN</td>\n",
       "      <td>NaN</td>\n",
       "      <td>NaN</td>\n",
       "      <td>5030.349863</td>\n",
       "      <td>B</td>\n",
       "      <td>3FGL J0009.3+5030</td>\n",
       "    </tr>\n",
       "    <tr>\n",
       "      <th>1</th>\n",
       "      <td>1.600000e-13</td>\n",
       "      <td>0.1780</td>\n",
       "      <td>0.274</td>\n",
       "      <td>0.001960</td>\n",
       "      <td>2.750000e-13</td>\n",
       "      <td>1138.894747</td>\n",
       "      <td>Q</td>\n",
       "      <td>3FGL J0017.6-0512</td>\n",
       "    </tr>\n",
       "    <tr>\n",
       "      <th>2</th>\n",
       "      <td>4.300000e-14</td>\n",
       "      <td>0.0337</td>\n",
       "      <td>NaN</td>\n",
       "      <td>0.000523</td>\n",
       "      <td>1.370000e-13</td>\n",
       "      <td>463.429579</td>\n",
       "      <td>B</td>\n",
       "      <td>3FGL J0018.4+2947</td>\n",
       "    </tr>\n",
       "    <tr>\n",
       "      <th>3</th>\n",
       "      <td>8.350000e-14</td>\n",
       "      <td>NaN</td>\n",
       "      <td>0.048</td>\n",
       "      <td>0.004420</td>\n",
       "      <td>NaN</td>\n",
       "      <td>5030.349863</td>\n",
       "      <td>B</td>\n",
       "      <td>3FGL J0018.9-8152</td>\n",
       "    </tr>\n",
       "    <tr>\n",
       "      <th>4</th>\n",
       "      <td>2.040000e-13</td>\n",
       "      <td>0.3400</td>\n",
       "      <td>0.262</td>\n",
       "      <td>0.001580</td>\n",
       "      <td>1.100000e-13</td>\n",
       "      <td>5030.349863</td>\n",
       "      <td>B</td>\n",
       "      <td>3FGL J0022.5+0608</td>\n",
       "    </tr>\n",
       "  </tbody>\n",
       "</table>\n",
       "</div>"
      ],
      "text/plain": [
       "   0.1-100 GeV (Fermi)  1.4GHz  4.85 GHz  W1 (WISE)  100 MeV-100 GeV LAT  \\\n",
       "0         2.110000e-13  0.0121       NaN        NaN                  NaN   \n",
       "1         1.600000e-13  0.1780     0.274   0.001960         2.750000e-13   \n",
       "2         4.300000e-14  0.0337       NaN   0.000523         1.370000e-13   \n",
       "3         8.350000e-14     NaN     0.048   0.004420                  NaN   \n",
       "4         2.040000e-13  0.3400     0.262   0.001580         1.100000e-13   \n",
       "\n",
       "            DL CLASS                Name  \n",
       "0  5030.349863     B  3FGL J0009.3+5030   \n",
       "1  1138.894747     Q  3FGL J0017.6-0512   \n",
       "2   463.429579     B  3FGL J0018.4+2947   \n",
       "3  5030.349863     B  3FGL J0018.9-8152   \n",
       "4  5030.349863     B  3FGL J0022.5+0608   "
      ]
     },
     "execution_count": 384,
     "metadata": {},
     "output_type": "execute_result"
    }
   ],
   "source": [
    "#scaling \n",
    "\n",
    "ml_class_df = lat_mojave_df[['0.1-100 GeV (Fermi)','1.4GHz','4.85 GHz', 'W1 (WISE)','100 MeV-100 GeV LAT','DL', 'CLASS', 'Name']]\n",
    "ml_class_df.head()"
   ]
  },
  {
   "cell_type": "code",
   "execution_count": 385,
   "metadata": {},
   "outputs": [
    {
     "data": {
      "text/html": [
       "<div>\n",
       "<style scoped>\n",
       "    .dataframe tbody tr th:only-of-type {\n",
       "        vertical-align: middle;\n",
       "    }\n",
       "\n",
       "    .dataframe tbody tr th {\n",
       "        vertical-align: top;\n",
       "    }\n",
       "\n",
       "    .dataframe thead th {\n",
       "        text-align: right;\n",
       "    }\n",
       "</style>\n",
       "<table border=\"1\" class=\"dataframe\">\n",
       "  <thead>\n",
       "    <tr style=\"text-align: right;\">\n",
       "      <th></th>\n",
       "      <th>0.1-100 GeV (Fermi)</th>\n",
       "      <th>1.4GHz</th>\n",
       "      <th>4.85 GHz</th>\n",
       "      <th>W1 (WISE)</th>\n",
       "      <th>100 MeV-100 GeV LAT</th>\n",
       "      <th>DL</th>\n",
       "    </tr>\n",
       "  </thead>\n",
       "  <tbody>\n",
       "    <tr>\n",
       "      <th>count</th>\n",
       "      <td>4.070000e+02</td>\n",
       "      <td>430.000000</td>\n",
       "      <td>446.000000</td>\n",
       "      <td>417.000000</td>\n",
       "      <td>3.660000e+02</td>\n",
       "      <td>529.000000</td>\n",
       "    </tr>\n",
       "    <tr>\n",
       "      <th>mean</th>\n",
       "      <td>3.486430e-13</td>\n",
       "      <td>1.275722</td>\n",
       "      <td>2.036798</td>\n",
       "      <td>0.006629</td>\n",
       "      <td>3.654978e-13</td>\n",
       "      <td>6291.296034</td>\n",
       "    </tr>\n",
       "    <tr>\n",
       "      <th>std</th>\n",
       "      <td>6.842094e-13</td>\n",
       "      <td>3.267048</td>\n",
       "      <td>10.886210</td>\n",
       "      <td>0.016742</td>\n",
       "      <td>6.139887e-13</td>\n",
       "      <td>5243.384863</td>\n",
       "    </tr>\n",
       "    <tr>\n",
       "      <th>min</th>\n",
       "      <td>3.640000e-14</td>\n",
       "      <td>0.004800</td>\n",
       "      <td>0.024000</td>\n",
       "      <td>0.000030</td>\n",
       "      <td>4.960000e-14</td>\n",
       "      <td>0.000000</td>\n",
       "    </tr>\n",
       "    <tr>\n",
       "      <th>25%</th>\n",
       "      <td>8.680000e-14</td>\n",
       "      <td>0.186750</td>\n",
       "      <td>0.256000</td>\n",
       "      <td>0.001070</td>\n",
       "      <td>1.082500e-13</td>\n",
       "      <td>2483.142721</td>\n",
       "    </tr>\n",
       "    <tr>\n",
       "      <th>50%</th>\n",
       "      <td>1.740000e-13</td>\n",
       "      <td>0.621500</td>\n",
       "      <td>0.780000</td>\n",
       "      <td>0.002200</td>\n",
       "      <td>1.645000e-13</td>\n",
       "      <td>5030.349863</td>\n",
       "    </tr>\n",
       "    <tr>\n",
       "      <th>75%</th>\n",
       "      <td>3.475000e-13</td>\n",
       "      <td>1.380000</td>\n",
       "      <td>1.607500</td>\n",
       "      <td>0.004650</td>\n",
       "      <td>3.595000e-13</td>\n",
       "      <td>8519.522810</td>\n",
       "    </tr>\n",
       "    <tr>\n",
       "      <th>max</th>\n",
       "      <td>9.930000e-12</td>\n",
       "      <td>55.000000</td>\n",
       "      <td>213.000000</td>\n",
       "      <td>0.157000</td>\n",
       "      <td>5.470000e-12</td>\n",
       "      <td>30102.577643</td>\n",
       "    </tr>\n",
       "  </tbody>\n",
       "</table>\n",
       "</div>"
      ],
      "text/plain": [
       "       0.1-100 GeV (Fermi)      1.4GHz    4.85 GHz   W1 (WISE)  \\\n",
       "count         4.070000e+02  430.000000  446.000000  417.000000   \n",
       "mean          3.486430e-13    1.275722    2.036798    0.006629   \n",
       "std           6.842094e-13    3.267048   10.886210    0.016742   \n",
       "min           3.640000e-14    0.004800    0.024000    0.000030   \n",
       "25%           8.680000e-14    0.186750    0.256000    0.001070   \n",
       "50%           1.740000e-13    0.621500    0.780000    0.002200   \n",
       "75%           3.475000e-13    1.380000    1.607500    0.004650   \n",
       "max           9.930000e-12   55.000000  213.000000    0.157000   \n",
       "\n",
       "       100 MeV-100 GeV LAT            DL  \n",
       "count         3.660000e+02    529.000000  \n",
       "mean          3.654978e-13   6291.296034  \n",
       "std           6.139887e-13   5243.384863  \n",
       "min           4.960000e-14      0.000000  \n",
       "25%           1.082500e-13   2483.142721  \n",
       "50%           1.645000e-13   5030.349863  \n",
       "75%           3.595000e-13   8519.522810  \n",
       "max           5.470000e-12  30102.577643  "
      ]
     },
     "execution_count": 385,
     "metadata": {},
     "output_type": "execute_result"
    }
   ],
   "source": [
    "ml_class_df.describe()"
   ]
  },
  {
   "cell_type": "code",
   "execution_count": 386,
   "metadata": {},
   "outputs": [
    {
     "name": "stderr",
     "output_type": "stream",
     "text": [
      "C:\\Users\\Nate\\Anaconda3\\lib\\site-packages\\ipykernel_launcher.py:1: SettingWithCopyWarning: \n",
      "A value is trying to be set on a copy of a slice from a DataFrame.\n",
      "Try using .loc[row_indexer,col_indexer] = value instead\n",
      "\n",
      "See the caveats in the documentation: http://pandas.pydata.org/pandas-docs/stable/indexing.html#indexing-view-versus-copy\n",
      "  \"\"\"Entry point for launching an IPython kernel.\n"
     ]
    },
    {
     "data": {
      "text/plain": [
       "count    529.000000\n",
       "mean       1.000000\n",
       "std        0.833435\n",
       "min        0.000000\n",
       "25%        0.394695\n",
       "50%        0.799573\n",
       "75%        1.354176\n",
       "max        4.784798\n",
       "Name: DL, dtype: float64"
      ]
     },
     "execution_count": 386,
     "metadata": {},
     "output_type": "execute_result"
    }
   ],
   "source": [
    "ml_class_df['DL'] = ml_class_df['DL'] /ml_class_df['DL'].mean()\n",
    "ml_class_df['DL'].describe()"
   ]
  },
  {
   "cell_type": "code",
   "execution_count": 387,
   "metadata": {},
   "outputs": [
    {
     "name": "stderr",
     "output_type": "stream",
     "text": [
      "C:\\Users\\Nate\\Anaconda3\\lib\\site-packages\\ipykernel_launcher.py:2: SettingWithCopyWarning: \n",
      "A value is trying to be set on a copy of a slice from a DataFrame.\n",
      "Try using .loc[row_indexer,col_indexer] = value instead\n",
      "\n",
      "See the caveats in the documentation: http://pandas.pydata.org/pandas-docs/stable/indexing.html#indexing-view-versus-copy\n",
      "  \n"
     ]
    },
    {
     "data": {
      "text/plain": [
       "count    529.000000\n",
       "mean       1.000002\n",
       "std        0.833432\n",
       "min        0.001000\n",
       "25%        0.394695\n",
       "50%        0.799573\n",
       "75%        1.354176\n",
       "max        4.784798\n",
       "Name: DL, dtype: float64"
      ]
     },
     "execution_count": 387,
     "metadata": {},
     "output_type": "execute_result"
    }
   ],
   "source": [
    "#the zeros are going to be a problem. I am subsitituting a small numbers. \n",
    "ml_class_df['DL'] = ml_class_df['DL'].replace(0,0.001)\n",
    "ml_class_df['DL'].describe()"
   ]
  },
  {
   "cell_type": "code",
   "execution_count": 389,
   "metadata": {},
   "outputs": [
    {
     "name": "stderr",
     "output_type": "stream",
     "text": [
      "C:\\Users\\Nate\\Anaconda3\\lib\\site-packages\\pandas\\core\\indexing.py:543: SettingWithCopyWarning: \n",
      "A value is trying to be set on a copy of a slice from a DataFrame.\n",
      "Try using .loc[row_indexer,col_indexer] = value instead\n",
      "\n",
      "See the caveats in the documentation: http://pandas.pydata.org/pandas-docs/stable/indexing.html#indexing-view-versus-copy\n",
      "  self.obj[item] = s\n"
     ]
    },
    {
     "data": {
      "text/html": [
       "<div>\n",
       "<style scoped>\n",
       "    .dataframe tbody tr th:only-of-type {\n",
       "        vertical-align: middle;\n",
       "    }\n",
       "\n",
       "    .dataframe tbody tr th {\n",
       "        vertical-align: top;\n",
       "    }\n",
       "\n",
       "    .dataframe thead th {\n",
       "        text-align: right;\n",
       "    }\n",
       "</style>\n",
       "<table border=\"1\" class=\"dataframe\">\n",
       "  <thead>\n",
       "    <tr style=\"text-align: right;\">\n",
       "      <th></th>\n",
       "      <th>0.1-100 GeV (Fermi)</th>\n",
       "      <th>1.4GHz</th>\n",
       "      <th>4.85 GHz</th>\n",
       "      <th>W1 (WISE)</th>\n",
       "      <th>100 MeV-100 GeV LAT</th>\n",
       "      <th>DL</th>\n",
       "    </tr>\n",
       "  </thead>\n",
       "  <tbody>\n",
       "    <tr>\n",
       "      <th>count</th>\n",
       "      <td>4.070000e+02</td>\n",
       "      <td>4.300000e+02</td>\n",
       "      <td>4.460000e+02</td>\n",
       "      <td>4.170000e+02</td>\n",
       "      <td>3.660000e+02</td>\n",
       "      <td>529.000000</td>\n",
       "    </tr>\n",
       "    <tr>\n",
       "      <th>mean</th>\n",
       "      <td>4.685157e-13</td>\n",
       "      <td>2.334070e+00</td>\n",
       "      <td>2.712476e+00</td>\n",
       "      <td>3.407902e-03</td>\n",
       "      <td>5.908682e-13</td>\n",
       "      <td>1.000002</td>\n",
       "    </tr>\n",
       "    <tr>\n",
       "      <th>std</th>\n",
       "      <td>1.233227e-12</td>\n",
       "      <td>7.335311e+00</td>\n",
       "      <td>7.119113e+00</td>\n",
       "      <td>6.101702e-03</td>\n",
       "      <td>1.959186e-12</td>\n",
       "      <td>0.833432</td>\n",
       "    </tr>\n",
       "    <tr>\n",
       "      <th>min</th>\n",
       "      <td>1.150000e-19</td>\n",
       "      <td>1.450000e-07</td>\n",
       "      <td>1.120000e-07</td>\n",
       "      <td>5.320296e-07</td>\n",
       "      <td>1.600000e-19</td>\n",
       "      <td>0.001000</td>\n",
       "    </tr>\n",
       "    <tr>\n",
       "      <th>25%</th>\n",
       "      <td>2.040873e-14</td>\n",
       "      <td>3.788517e-02</td>\n",
       "      <td>4.922740e-02</td>\n",
       "      <td>3.195436e-04</td>\n",
       "      <td>1.788904e-14</td>\n",
       "      <td>0.394695</td>\n",
       "    </tr>\n",
       "    <tr>\n",
       "      <th>50%</th>\n",
       "      <td>1.041890e-13</td>\n",
       "      <td>3.660107e-01</td>\n",
       "      <td>4.973870e-01</td>\n",
       "      <td>1.516303e-03</td>\n",
       "      <td>1.075433e-13</td>\n",
       "      <td>0.799573</td>\n",
       "    </tr>\n",
       "    <tr>\n",
       "      <th>75%</th>\n",
       "      <td>3.573082e-13</td>\n",
       "      <td>1.845336e+00</td>\n",
       "      <td>2.249121e+00</td>\n",
       "      <td>3.724577e-03</td>\n",
       "      <td>4.527804e-13</td>\n",
       "      <td>1.354176</td>\n",
       "    </tr>\n",
       "    <tr>\n",
       "      <th>max</th>\n",
       "      <td>1.623830e-11</td>\n",
       "      <td>1.198160e+02</td>\n",
       "      <td>8.705900e+01</td>\n",
       "      <td>5.370651e-02</td>\n",
       "      <td>2.810871e-11</td>\n",
       "      <td>4.784798</td>\n",
       "    </tr>\n",
       "  </tbody>\n",
       "</table>\n",
       "</div>"
      ],
      "text/plain": [
       "       0.1-100 GeV (Fermi)        1.4GHz      4.85 GHz     W1 (WISE)  \\\n",
       "count         4.070000e+02  4.300000e+02  4.460000e+02  4.170000e+02   \n",
       "mean          4.685157e-13  2.334070e+00  2.712476e+00  3.407902e-03   \n",
       "std           1.233227e-12  7.335311e+00  7.119113e+00  6.101702e-03   \n",
       "min           1.150000e-19  1.450000e-07  1.120000e-07  5.320296e-07   \n",
       "25%           2.040873e-14  3.788517e-02  4.922740e-02  3.195436e-04   \n",
       "50%           1.041890e-13  3.660107e-01  4.973870e-01  1.516303e-03   \n",
       "75%           3.573082e-13  1.845336e+00  2.249121e+00  3.724577e-03   \n",
       "max           1.623830e-11  1.198160e+02  8.705900e+01  5.370651e-02   \n",
       "\n",
       "       100 MeV-100 GeV LAT          DL  \n",
       "count         3.660000e+02  529.000000  \n",
       "mean          5.908682e-13    1.000002  \n",
       "std           1.959186e-12    0.833432  \n",
       "min           1.600000e-19    0.001000  \n",
       "25%           1.788904e-14    0.394695  \n",
       "50%           1.075433e-13    0.799573  \n",
       "75%           4.527804e-13    1.354176  \n",
       "max           2.810871e-11    4.784798  "
      ]
     },
     "execution_count": 389,
     "metadata": {},
     "output_type": "execute_result"
    }
   ],
   "source": [
    "ml_class_df.loc[:, '0.1-100 GeV (Fermi)':'100 MeV-100 GeV LAT'] = ml_class_df[['0.1-100 GeV (Fermi)','1.4GHz','4.85 GHz', 'W1 (WISE)','100 MeV-100 GeV LAT']].multiply(ml_class_df['DL']**2, axis=\"index\")\n",
    "ml_class_df.describe()"
   ]
  },
  {
   "cell_type": "code",
   "execution_count": 390,
   "metadata": {},
   "outputs": [
    {
     "name": "stderr",
     "output_type": "stream",
     "text": [
      "C:\\Users\\Nate\\Anaconda3\\lib\\site-packages\\ipykernel_launcher.py:1: SettingWithCopyWarning: \n",
      "A value is trying to be set on a copy of a slice from a DataFrame.\n",
      "Try using .loc[row_indexer,col_indexer] = value instead\n",
      "\n",
      "See the caveats in the documentation: http://pandas.pydata.org/pandas-docs/stable/indexing.html#indexing-view-versus-copy\n",
      "  \"\"\"Entry point for launching an IPython kernel.\n"
     ]
    },
    {
     "data": {
      "text/plain": [
       "count    407.000000\n",
       "mean     -13.170786\n",
       "std        1.095550\n",
       "min      -18.939302\n",
       "25%      -13.691617\n",
       "50%      -12.982178\n",
       "75%      -12.446993\n",
       "max      -10.789459\n",
       "Name: 0.1-100 GeV (Fermi), dtype: float64"
      ]
     },
     "execution_count": 390,
     "metadata": {},
     "output_type": "execute_result"
    }
   ],
   "source": [
    "ml_class_df['0.1-100 GeV (Fermi)'] = np.log10(ml_class_df['0.1-100 GeV (Fermi)'])\n",
    "ml_class_df['0.1-100 GeV (Fermi)'].describe()"
   ]
  },
  {
   "cell_type": "code",
   "execution_count": 391,
   "metadata": {},
   "outputs": [
    {
     "name": "stderr",
     "output_type": "stream",
     "text": [
      "C:\\Users\\Nate\\Anaconda3\\lib\\site-packages\\ipykernel_launcher.py:1: SettingWithCopyWarning: \n",
      "A value is trying to be set on a copy of a slice from a DataFrame.\n",
      "Try using .loc[row_indexer,col_indexer] = value instead\n",
      "\n",
      "See the caveats in the documentation: http://pandas.pydata.org/pandas-docs/stable/indexing.html#indexing-view-versus-copy\n",
      "  \"\"\"Entry point for launching an IPython kernel.\n"
     ]
    }
   ],
   "source": [
    "ml_class_df['0.1-100 GeV (Fermi)'] = ml_class_df['0.1-100 GeV (Fermi)'].fillna(ml_class_df['0.1-100 GeV (Fermi)'].mean())"
   ]
  },
  {
   "cell_type": "code",
   "execution_count": 392,
   "metadata": {},
   "outputs": [
    {
     "data": {
      "text/plain": [
       "count    529.000000\n",
       "mean     -13.170786\n",
       "std        0.960679\n",
       "min      -18.939302\n",
       "25%      -13.407532\n",
       "50%      -13.170786\n",
       "75%      -12.574446\n",
       "max      -10.789459\n",
       "Name: 0.1-100 GeV (Fermi), dtype: float64"
      ]
     },
     "execution_count": 392,
     "metadata": {},
     "output_type": "execute_result"
    }
   ],
   "source": [
    "ml_class_df['0.1-100 GeV (Fermi)'].describe()"
   ]
  },
  {
   "cell_type": "code",
   "execution_count": 393,
   "metadata": {},
   "outputs": [
    {
     "name": "stderr",
     "output_type": "stream",
     "text": [
      "C:\\Users\\Nate\\Anaconda3\\lib\\site-packages\\ipykernel_launcher.py:1: SettingWithCopyWarning: \n",
      "A value is trying to be set on a copy of a slice from a DataFrame.\n",
      "Try using .loc[row_indexer,col_indexer] = value instead\n",
      "\n",
      "See the caveats in the documentation: http://pandas.pydata.org/pandas-docs/stable/indexing.html#indexing-view-versus-copy\n",
      "  \"\"\"Entry point for launching an IPython kernel.\n",
      "C:\\Users\\Nate\\Anaconda3\\lib\\site-packages\\ipykernel_launcher.py:2: SettingWithCopyWarning: \n",
      "A value is trying to be set on a copy of a slice from a DataFrame.\n",
      "Try using .loc[row_indexer,col_indexer] = value instead\n",
      "\n",
      "See the caveats in the documentation: http://pandas.pydata.org/pandas-docs/stable/indexing.html#indexing-view-versus-copy\n",
      "  \n"
     ]
    },
    {
     "data": {
      "text/plain": [
       "count    529.000000\n",
       "mean     -13.143402\n",
       "std        0.944792\n",
       "min      -18.795880\n",
       "25%      -13.231915\n",
       "50%      -13.143402\n",
       "75%      -12.647425\n",
       "max      -10.551159\n",
       "Name: 100 MeV-100 GeV LAT, dtype: float64"
      ]
     },
     "execution_count": 393,
     "metadata": {},
     "output_type": "execute_result"
    }
   ],
   "source": [
    "ml_class_df['100 MeV-100 GeV LAT'] = np.log10(ml_class_df['100 MeV-100 GeV LAT'])\n",
    "ml_class_df['100 MeV-100 GeV LAT'] = ml_class_df['100 MeV-100 GeV LAT'].fillna(ml_class_df['100 MeV-100 GeV LAT'].mean())            \n",
    "ml_class_df['100 MeV-100 GeV LAT'].describe()"
   ]
  },
  {
   "cell_type": "code",
   "execution_count": 394,
   "metadata": {},
   "outputs": [
    {
     "name": "stderr",
     "output_type": "stream",
     "text": [
      "C:\\Users\\Nate\\Anaconda3\\lib\\site-packages\\ipykernel_launcher.py:1: SettingWithCopyWarning: \n",
      "A value is trying to be set on a copy of a slice from a DataFrame.\n",
      "Try using .loc[row_indexer,col_indexer] = value instead\n",
      "\n",
      "See the caveats in the documentation: http://pandas.pydata.org/pandas-docs/stable/indexing.html#indexing-view-versus-copy\n",
      "  \"\"\"Entry point for launching an IPython kernel.\n",
      "C:\\Users\\Nate\\Anaconda3\\lib\\site-packages\\ipykernel_launcher.py:2: SettingWithCopyWarning: \n",
      "A value is trying to be set on a copy of a slice from a DataFrame.\n",
      "Try using .loc[row_indexer,col_indexer] = value instead\n",
      "\n",
      "See the caveats in the documentation: http://pandas.pydata.org/pandas-docs/stable/indexing.html#indexing-view-versus-copy\n",
      "  \n"
     ]
    },
    {
     "data": {
      "text/plain": [
       "count    529.000000\n",
       "mean      -0.714369\n",
       "std        1.201248\n",
       "min       -6.838632\n",
       "25%       -1.137379\n",
       "50%       -0.714369\n",
       "75%        0.089833\n",
       "max        2.078515\n",
       "Name: 1.4GHz, dtype: float64"
      ]
     },
     "execution_count": 394,
     "metadata": {},
     "output_type": "execute_result"
    }
   ],
   "source": [
    "ml_class_df['1.4GHz'] = np.log10(ml_class_df['1.4GHz'])\n",
    "ml_class_df['1.4GHz'] = ml_class_df['1.4GHz'].fillna(ml_class_df['1.4GHz'].mean())            \n",
    "ml_class_df['1.4GHz'].describe()"
   ]
  },
  {
   "cell_type": "code",
   "execution_count": 395,
   "metadata": {},
   "outputs": [
    {
     "name": "stderr",
     "output_type": "stream",
     "text": [
      "C:\\Users\\Nate\\Anaconda3\\lib\\site-packages\\ipykernel_launcher.py:1: SettingWithCopyWarning: \n",
      "A value is trying to be set on a copy of a slice from a DataFrame.\n",
      "Try using .loc[row_indexer,col_indexer] = value instead\n",
      "\n",
      "See the caveats in the documentation: http://pandas.pydata.org/pandas-docs/stable/indexing.html#indexing-view-versus-copy\n",
      "  \"\"\"Entry point for launching an IPython kernel.\n",
      "C:\\Users\\Nate\\Anaconda3\\lib\\site-packages\\ipykernel_launcher.py:2: SettingWithCopyWarning: \n",
      "A value is trying to be set on a copy of a slice from a DataFrame.\n",
      "Try using .loc[row_indexer,col_indexer] = value instead\n",
      "\n",
      "See the caveats in the documentation: http://pandas.pydata.org/pandas-docs/stable/indexing.html#indexing-view-versus-copy\n",
      "  \n"
     ]
    },
    {
     "data": {
      "text/plain": [
       "count    529.000000\n",
       "mean      -0.601568\n",
       "std        1.199971\n",
       "min       -6.950782\n",
       "25%       -0.997238\n",
       "50%       -0.601568\n",
       "75%        0.255641\n",
       "max        1.939814\n",
       "Name: 4.85 GHz, dtype: float64"
      ]
     },
     "execution_count": 395,
     "metadata": {},
     "output_type": "execute_result"
    }
   ],
   "source": [
    "ml_class_df['4.85 GHz'] = np.log10(ml_class_df['4.85 GHz'])\n",
    "ml_class_df['4.85 GHz'] = ml_class_df['4.85 GHz'].fillna(ml_class_df['4.85 GHz'].mean())            \n",
    "ml_class_df['4.85 GHz'].describe()"
   ]
  },
  {
   "cell_type": "code",
   "execution_count": 396,
   "metadata": {},
   "outputs": [
    {
     "name": "stderr",
     "output_type": "stream",
     "text": [
      "C:\\Users\\Nate\\Anaconda3\\lib\\site-packages\\ipykernel_launcher.py:1: SettingWithCopyWarning: \n",
      "A value is trying to be set on a copy of a slice from a DataFrame.\n",
      "Try using .loc[row_indexer,col_indexer] = value instead\n",
      "\n",
      "See the caveats in the documentation: http://pandas.pydata.org/pandas-docs/stable/indexing.html#indexing-view-versus-copy\n",
      "  \"\"\"Entry point for launching an IPython kernel.\n",
      "C:\\Users\\Nate\\Anaconda3\\lib\\site-packages\\ipykernel_launcher.py:2: SettingWithCopyWarning: \n",
      "A value is trying to be set on a copy of a slice from a DataFrame.\n",
      "Try using .loc[row_indexer,col_indexer] = value instead\n",
      "\n",
      "See the caveats in the documentation: http://pandas.pydata.org/pandas-docs/stable/indexing.html#indexing-view-versus-copy\n",
      "  \n"
     ]
    },
    {
     "data": {
      "text/plain": [
       "count    529.000000\n",
       "mean      -3.021007\n",
       "std        0.769691\n",
       "min       -6.274064\n",
       "25%       -3.295860\n",
       "50%       -3.021007\n",
       "75%       -2.552946\n",
       "max       -1.269973\n",
       "Name: W1 (WISE), dtype: float64"
      ]
     },
     "execution_count": 396,
     "metadata": {},
     "output_type": "execute_result"
    }
   ],
   "source": [
    "ml_class_df['W1 (WISE)'] = np.log10(ml_class_df['W1 (WISE)'])\n",
    "ml_class_df['W1 (WISE)'] = ml_class_df['W1 (WISE)'].fillna(ml_class_df['W1 (WISE)'].mean())            \n",
    "ml_class_df['W1 (WISE)'].describe()"
   ]
  },
  {
   "cell_type": "code",
   "execution_count": 397,
   "metadata": {},
   "outputs": [
    {
     "data": {
      "image/png": "[encoded data removed]",
      "text/plain": [
       "<Figure size 943.75x900 with 30 Axes>"
      ]
     },
     "metadata": {},
     "output_type": "display_data"
    }
   ],
   "source": [
    "g = sns.pairplot(ml_class_df[['0.1-100 GeV (Fermi)','1.4GHz','4.85 GHz', 'W1 (WISE)','100 MeV-100 GeV LAT','CLASS']], hue='CLASS',diag_kind=\"kde\")\n",
    "g.savefig('AGNpairTRAN.png')"
   ]
  },
  {
   "cell_type": "markdown",
   "metadata": {},
   "source": [
    "As we can see above after the transforms, I get good seperation and proportional behavior. I should now be able to build the classifaction engines. I'll start with the KNN Classifier."
   ]
  },
  {
   "cell_type": "code",
   "execution_count": 402,
   "metadata": {},
   "outputs": [
    {
     "name": "stdout",
     "output_type": "stream",
     "text": [
      "(370, 5)\n",
      "(159, 5)\n",
      "(370,)\n",
      "(159,)\n"
     ]
    }
   ],
   "source": [
    "# First Train-Test Split, 70-30 split \n",
    "\n",
    "X_train, X_test, y_train, y_test = train_test_split(ml_class_df[['0.1-100 GeV (Fermi)','1.4GHz','4.85 GHz', 'W1 (WISE)','100 MeV-100 GeV LAT']], ml_class_df['CLASS'], test_size=0.3)\n",
    "print(X_train.shape)\n",
    "print(X_test.shape)\n",
    "print(y_train.shape)\n",
    "print(y_test.shape)"
   ]
  },
  {
   "cell_type": "code",
   "execution_count": 407,
   "metadata": {},
   "outputs": [
    {
     "name": "stdout",
     "output_type": "stream",
     "text": [
      "K = 3 Accuracy:  0.7924528301886793\n",
      "K = 4 Accuracy:  0.779874213836478\n",
      "K = 5 Accuracy:  0.8113207547169812\n",
      "K = 6 Accuracy:  0.8050314465408805\n",
      "K = 7 Accuracy:  0.8176100628930818\n",
      "K = 8 Accuracy:  0.7987421383647799\n",
      "K = 9 Accuracy:  0.7987421383647799\n",
      "K = 10 Accuracy:  0.7924528301886793\n"
     ]
    }
   ],
   "source": [
    "#I am going to test for optimal K in range of 3 to 10\n",
    "for k in range(3,11):\n",
    "    knn = KNeighborsClassifier(n_neighbors=k)\n",
    "    knn.fit(X_train, y_train)\n",
    "    y_pred = knn.predict(X_test)\n",
    "    print(\"K = \"+ str(k) + \" Accuracy: \",metrics.accuracy_score(y_test, y_pred))"
   ]
  },
  {
   "cell_type": "markdown",
   "metadata": {},
   "source": [
    "## KNN Result\n",
    "\n",
    "With a Training Test split of 70-30, A k=7 achieves the best accuracy of 81.7%. Note that moving the k parameter only effected the accuracy by a range of 4%. With the sample dominated by 2 classes, BL Lacs and FSRQ's this is marginally better than guessing. Note that the KNN was selected to provide a benchmark."
   ]
  },
  {
   "cell_type": "markdown",
   "metadata": {},
   "source": [
    "## Support Vector Machine -Classifier\n",
    "\n",
    "I am going to follow asimilar workflow for a SVC in this case I will test accurracy of each kernel to see which works best."
   ]
  },
  {
   "cell_type": "code",
   "execution_count": 408,
   "metadata": {},
   "outputs": [
    {
     "name": "stdout",
     "output_type": "stream",
     "text": [
      "Kernel = linear Accuracy:  0.8176100628930818\n",
      "Kernel = poly Accuracy:  0.7987421383647799\n",
      "Kernel = rbf Accuracy:  0.8113207547169812\n",
      "Kernel = sigmoid Accuracy:  0.4779874213836478\n"
     ]
    }
   ],
   "source": [
    "kernel_list = ['linear', 'poly', 'rbf', 'sigmoid']\n",
    "for kernel in kernel_list: \n",
    "    clf = SVC(kernel=kernel) \n",
    "    clf.fit(X_train, y_train)\n",
    "    y_pred = clf.predict(X_test)\n",
    "    print(\"Kernel = \"+ kernel + \" Accuracy: \",metrics.accuracy_score(y_test, y_pred))"
   ]
  },
  {
   "cell_type": "markdown",
   "metadata": {},
   "source": [
    "### SVM Result\n",
    "\n",
    "A linear kernel gives the same accruacy as a KNN classifier with a k=7. Note that the ploy and rbf kernels perform within the accuracy range of the KNN. "
   ]
  },
  {
   "cell_type": "code",
   "execution_count": null,
   "metadata": {},
   "outputs": [],
   "source": []
  }
 ],
 "metadata": {
  "kernelspec": {
   "display_name": "Python 3",
   "language": "python",
   "name": "python3"
  },
  "language_info": {
   "codemirror_mode": {
    "name": "ipython",
    "version": 3
   },
   "file_extension": ".py",
   "mimetype": "text/x-python",
   "name": "python",
   "nbconvert_exporter": "python",
   "pygments_lexer": "ipython3",
   "version": "3.6.5"
  }
 },
 "nbformat": 4,
 "nbformat_minor": 2
}
